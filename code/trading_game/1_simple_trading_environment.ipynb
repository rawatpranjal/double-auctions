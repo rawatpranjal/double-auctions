{
 "cells": [
  {
   "cell_type": "code",
   "execution_count": 19,
   "id": "9f81a91f",
   "metadata": {},
   "outputs": [],
   "source": [
    "import numpy as np\n",
    "\n",
    "def public_information():\n",
    "    rounds = np.random.randint(2,10)\n",
    "    periods = np.random.randint(2,10)\n",
    "    return rounds, periods\n",
    "\n",
    "def private_information(num_bidders, num_askers, rounds):\n",
    "    token_bidders = np.random.randint(0,10) + np.random.randint(0,10) + np.random.randint(0,10, (num_bidders,1))+ np.random.randint(0,10, (num_bidders,rounds))\n",
    "    token_askers = np.random.randint(0,10) + np.random.randint(0,10,(num_askers,1))+ np.random.randint(0,10,(num_bidders,rounds))\n",
    "    return token_bidders, token_askers\n",
    " \n",
    "rounds, periods = public_information()\n",
    "token_bidders, token_askers = private_information(3,3,rounds)"
   ]
  },
  {
   "cell_type": "code",
   "execution_count": 21,
   "id": "34a98d0f",
   "metadata": {},
   "outputs": [
    {
     "data": {
      "text/plain": [
       "(array([[21, 20, 22, 19, 19, 18, 22, 19, 21],\n",
       "        [15, 22, 21, 20, 18, 16, 16, 15, 23],\n",
       "        [20, 21, 19, 19, 13, 12, 16, 12, 17]]),\n",
       " array([[18, 16, 21, 15, 14, 15, 21, 19, 14],\n",
       "        [19, 12, 13, 15, 19, 15, 20, 15, 12],\n",
       "        [14, 15, 20, 23, 22, 21, 21, 16, 21]]))"
      ]
     },
     "execution_count": 21,
     "metadata": {},
     "output_type": "execute_result"
    }
   ],
   "source": [
    "token_bidders, token_askers"
   ]
  },
  {
   "cell_type": "code",
   "execution_count": null,
   "id": "b77fd962",
   "metadata": {},
   "outputs": [],
   "source": [
    "def random_bidder(token_value):\n",
    "    return "
   ]
  },
  {
   "cell_type": "code",
   "execution_count": 11,
   "id": "e9ec2038",
   "metadata": {},
   "outputs": [
    {
     "ename": "SyntaxError",
     "evalue": "invalid syntax (2144529548.py, line 18)",
     "output_type": "error",
     "traceback": [
      "\u001b[0;36m  Cell \u001b[0;32mIn [11], line 18\u001b[0;36m\u001b[0m\n\u001b[0;31m    def token_values\u001b[0m\n\u001b[0m                    ^\u001b[0m\n\u001b[0;31mSyntaxError\u001b[0m\u001b[0;31m:\u001b[0m invalid syntax\n"
     ]
    }
   ],
   "source": [
    "import numpy as np\n",
    "\n",
    "offer_space = np.linspace(0,1,11)\n",
    "token_space = np.linspace(0,1,11)\n",
    "bids = np.random.choice(offer_space, 3)\n",
    "asks = np.random.choice(offer_space, 3)\n",
    "  \n",
    "def token_values\n",
    "\n",
    "def bid_ask_step(bids, asks):\n",
    "    current_bid, current_bidder_idx = np.max(bids), np.argmax(bids)\n",
    "    current_ask, current_asker_idx = np.min(asks), np.argmin(asks)\n",
    "    return current_bid, current_bidder_idx, current_ask, current_asker_idx\n",
    "    \n",
    "    \n",
    "def buy_sell_step(current_bidder_idx,current_asker_idx, current_bid, current_ask):\n",
    "    bidder_sell_function = bidder_sell_functions[current_bidder_idx]\n",
    "    asker_buy_function = asker_buy_functions[current_bidder_idx]\n",
    "    \n",
    "    if bidder_sell_function(current_bid, current_ask):\n",
    "        if asker_buy_function(current_bid, current_ask):\n",
    "            return True\n",
    "    return False\n",
    "    \n",
    "    \n",
    "\n",
    "    "
   ]
  },
  {
   "cell_type": "code",
   "execution_count": 9,
   "id": "dd663693",
   "metadata": {},
   "outputs": [
    {
     "data": {
      "text/plain": [
       "(array([0.7, 0.4, 0.6]), array([1. , 0.3, 0.4]))"
      ]
     },
     "execution_count": 9,
     "metadata": {},
     "output_type": "execute_result"
    }
   ],
   "source": [
    "bids, asks"
   ]
  },
  {
   "cell_type": "code",
   "execution_count": null,
   "id": "02d347e8",
   "metadata": {},
   "outputs": [],
   "source": [
    "bids = np.array()"
   ]
  },
  {
   "cell_type": "code",
   "execution_count": null,
   "id": "595639e9",
   "metadata": {},
   "outputs": [],
   "source": []
  }
 ],
 "metadata": {
  "kernelspec": {
   "display_name": "Python 3 (ipykernel)",
   "language": "python",
   "name": "python3"
  },
  "language_info": {
   "codemirror_mode": {
    "name": "ipython",
    "version": 3
   },
   "file_extension": ".py",
   "mimetype": "text/x-python",
   "name": "python",
   "nbconvert_exporter": "python",
   "pygments_lexer": "ipython3",
   "version": "3.10.9"
  }
 },
 "nbformat": 4,
 "nbformat_minor": 5
}
