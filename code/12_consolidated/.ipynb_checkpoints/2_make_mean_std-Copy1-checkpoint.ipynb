{
 "cells": [
  {
   "cell_type": "code",
   "execution_count": null,
   "id": "abbed215-785c-4f29-a322-9459da56555c",
   "metadata": {},
   "outputs": [],
   "source": [
    "from utils import * \n",
    "from algorithms import *\n",
    "from agents import *"
   ]
  },
  {
   "cell_type": "code",
   "execution_count": null,
   "id": "9eeaec27-37ec-4607-90c0-e428e599eea4",
   "metadata": {},
   "outputs": [],
   "source": [
    "from copy import deepcopy\n",
    "class Log:\n",
    "    def __init__(self, gameData,disclosure,depth):\n",
    "        self.gameData = gameData\n",
    "        self.gameTypes, self.numBuyers, self.numSellers, self.numTokens, self.numRounds, self.numPeriods, self.numSteps, self.seed = gameData\n",
    "        self.stepData = pd.DataFrame(columns=['rnd', 'period', 'step', 'currentBid', 'currentAsk', 'buy', 'sell', 'price', \n",
    "                                              'sale',\n",
    "                                              'currentBidIdx_0', 'currentBidIdx_1', 'currentBidIdx_2', 'currentBidIdx_3',\n",
    "                                              'currentAskIdx_0', 'currentAskIdx_1', 'currentAskIdx_2', 'currentAskIdx_3',\n",
    "                                              'bids_0', 'bids_1', 'bids_2', 'bids_3',\n",
    "                                              'asks_0', 'asks_1', 'asks_2', 'asks_3', 'bprofit', 'sprofit'])\n",
    "        self.stepDataNorm = pd.DataFrame(columns=['step', 'currentBid', 'currentAsk', 'buy', 'sell', 'price', 'sale',\n",
    "                                              'currentBidIdx_0', 'currentBidIdx_1', 'currentBidIdx_2', 'currentBidIdx_3',\n",
    "                                              'currentAskIdx_0', 'currentAskIdx_1', 'currentAskIdx_2', 'currentAskIdx_3',\n",
    "                                              'bids_0', 'bids_1', 'bids_2', 'bids_3',\n",
    "                                              'asks_0', 'asks_1', 'asks_2', 'asks_3'])\n",
    "        self.roundData = pd.DataFrame(columns=['rnd', 'buyerValues', 'sellerCosts', 'demand', 'supply', 'prices', 'peq', 'qeq', \n",
    "                                              'buyerReservationPrices', 'sellerReservationPrices', 'buyerSurplus', 'sellerSurplus', \n",
    "                                              'totalSurplus', 'buyerSurplusFrac', 'sellerSurplusFrac'])        \n",
    "        self.disclosure = disclosure\n",
    "        self.depth = depth\n",
    "        self.meanPublicData = pd.read_csv('meanPublicData.csv').values.reshape(-1)\n",
    "        self.stdPublicData = pd.read_csv('stdPublicData.csv').values.reshape(-1)\n",
    "        self.meanInternalData = pd.read_csv('meanInternalData.csv').values.reshape(-1)\n",
    "        self.stdInternalData = pd.read_csv('stdInternalData.csv').values.reshape(-1)\n",
    "\n",
    "    def addStep(self, stepData):\n",
    "        self.stepData.loc[len(self.stepData.index)] = stepData\n",
    "        stepData = (np.array(stepData[2:-2]) - self.meanPublicData)/(self.stdPublicData + 1e-8)\n",
    "        self.stepDataNorm.loc[len(self.stepDataNorm.index)] = stepData\n",
    "        self.stepDataNorm[['bids_0','bids_1', 'bids_2', 'bids_3']] = self.stepDataNorm[['bids_0','bids_1', 'bids_2', 'bids_3']].fillna(-5)\n",
    "        self.stepDataNorm[['asks_0','asks_1', 'asks_2', 'asks_3']] = self.stepDataNorm[['asks_0','asks_1', 'asks_2', 'asks_3']].fillna(5)\n",
    "        self.stepDataNorm[['price', 'sale']] = self.stepDataNorm[['price', 'sale']].fillna(-5)\n",
    "\n",
    "    def addRound(self, roundData):\n",
    "        self.roundData.loc[len(self.roundData.index)] = roundData\n",
    "\n",
    "    def generateState(self, agent, cnt, numStates):\n",
    "        if cnt >= self.depth:\n",
    "            publicDataNorm = self.stepDataNorm[self.disclosure].iloc[-self.depth:]\n",
    "            internalData = np.array([[agent.periodTrades, agent.roundTokens[0], agent.roundTokens[1], agent.roundTokens[2], agent.roundTokens[3]]])\n",
    "            internalDataNorm = (internalData - self.meanInternalData)/(self.stdInternalData+1e-8)\n",
    "            state = publicDataNorm.values.reshape(-1).tolist() + internalDataNorm.reshape(-1).tolist()\n",
    "            print(state)\n",
    "            return state\n",
    "        else:\n",
    "            return [0.0]*numStates\n",
    "        \n",
    "    def disclose(self):\n",
    "        return self.stepData[self.disclosure].iloc[-1]\n",
    "        \n",
    "    def getPeriod(self, rnd, period):\n",
    "        return self.stepData[(self.stepData.rnd==rnd) & (self.stepData.period==period)]\n",
    "        \n",
    "    def getPeriodActivity(self, rnd, period):\n",
    "        periodData = self.getPeriod(rnd, period)\n",
    "        periodBids = list(periodData.bids)\n",
    "        periodAsks = list(periodData.asks)\n",
    "        periodPrices = list(periodData.price)\n",
    "        periodSales = np.cumsum(np.where(periodData.price > 0,1,0))\n",
    "        return np.array(periodBids), np.array(periodAsks), np.array(periodPrices), np.array(periodSales)\n",
    "\n",
    "    def getRound(self, rnd):\n",
    "        return self.roundData[(self.roundData.rnd==rnd)]\n",
    "\n",
    "    def getRoundList(self, rnd):\n",
    "        return self.getRound(rnd).values.tolist()[0][1:]\n",
    "\n",
    "    def findCurrentTraders(self):\n",
    "        df = self.stepData\n",
    "        self.stepData['currentBidIdx'] = df[['currentBidIdx_0', 'currentBidIdx_1', 'currentBidIdx_2', 'currentBidIdx_3']].idxmax(axis=1).str.extract(r'(\\d+)').astype(int)\n",
    "        self.stepData['currentAskIdx'] = df[['currentAskIdx_0', 'currentAskIdx_1', 'currentAskIdx_2', 'currentAskIdx_3']].idxmax(axis=1).str.extract(r'(\\d+)').astype(int)\n",
    "        "
   ]
  },
  {
   "cell_type": "code",
   "execution_count": 47,
   "id": "8df99dd2-1a88-4ef1-bf8e-4a2804806693",
   "metadata": {},
   "outputs": [
    {
     "data": {
      "text/plain": [
       "[3.3074754516431075,\n",
       " -3.1512128898849205,\n",
       " 0.8005870050672768,\n",
       " 0.0,\n",
       " -12.87115471753893,\n",
       " -1.2101800897731843,\n",
       " 0.0,\n",
       " 1.7320507675688783,\n",
       " -0.5788898592897574,\n",
       " -0.5619514737911224,\n",
       " -0.5912086343754535,\n",
       " 1.7274442414662483,\n",
       " -0.5665721031281139,\n",
       " -0.5634918294041426,\n",
       " -0.6004533298668724,\n",
       " -1.0609974134129248,\n",
       " -5.0,\n",
       " -1.3882105308727541,\n",
       " -5.0,\n",
       " -0.4692353140852919,\n",
       " 1.7047658206546161,\n",
       " 5.0,\n",
       " 5.0,\n",
       " 2.430666668890428,\n",
       " 0.2437797236313841,\n",
       " 0.06281408490897304,\n",
       " 0.6060200194677918,\n",
       " -3.0636546817258115]"
      ]
     },
     "execution_count": 47,
     "metadata": {},
     "output_type": "execute_result"
    }
   ],
   "source": [
    "buyers[0].state"
   ]
  },
  {
   "cell_type": "code",
   "execution_count": null,
   "id": "8cf15179-c221-4dd7-836b-83b100754550",
   "metadata": {},
   "outputs": [],
   "source": [
    "numRounds, numPeriods, numSteps = 1000, 1, 16\n",
    "numBuyers, numSellers, numTokens = 4, 4, 4\n",
    "gameTypes, seed = '1111', None\n",
    "gameData = [gameTypes, numBuyers, numSellers, numTokens, numRounds, numPeriods, numSteps, seed]\n",
    "disclosure = ['step', 'currentBid', 'currentAsk', 'buy', 'sell', 'price', 'sale',\n",
    "              'currentBidIdx_0', 'currentBidIdx_1', 'currentBidIdx_2', 'currentBidIdx_3',\n",
    "              'currentAskIdx_0', 'currentAskIdx_1', 'currentAskIdx_2', 'currentAskIdx_3',\n",
    "              'bids_0', 'bids_1', 'bids_2', 'bids_3',\n",
    "              'asks_0', 'asks_1', 'asks_2', 'asks_3']\n",
    "depth = 1\n",
    "numStates = 32\n",
    "buyers = [ZeroIntelligence(gameData, disclosure, index=0, buyer=1, reinforcer=0),\n",
    "          ZeroIntelligence(gameData, disclosure, index=0, buyer=1, reinforcer=0),\n",
    "          ZeroIntelligence(gameData, disclosure, index=0, buyer=1, reinforcer=0),\n",
    "          ZeroIntelligence(gameData, disclosure, index=0, buyer=1, reinforcer=0)]\n",
    "sellers = [ZeroIntelligence(gameData, disclosure, index=0, buyer=0, reinforcer=0),\n",
    "           ZeroIntelligence(gameData, disclosure, index=0, buyer=0, reinforcer=0),\n",
    "           ZeroIntelligence(gameData, disclosure, index=0, buyer=0, reinforcer=0),\n",
    "           ZeroIntelligence(gameData, disclosure, index=0, buyer=0, reinforcer=0)]\n",
    "log = Log(gameData, disclosure, depth)\n",
    "rnd = 0\n",
    "state_record = []\n",
    "reward_record = []\n",
    "cnt = 0\n",
    "print_interval = 100\n",
    "for rnd in range(numRounds):\n",
    "    startRounds(gameData, log, buyers, sellers, rnd)\n",
    "    #print(log.roundData.tail(1).buyerValues.item())\n",
    "    #print(log.roundData.tail(1).sellerCosts.item())\n",
    "    score1, score2 = 0.0, 0.0\n",
    "    ss1, ss2 = 0.0, 0.0\n",
    "    for period in range(numPeriods):\n",
    "        startPeriods(buyers, sellers)\n",
    "        period_bids = []\n",
    "        for step in range(numSteps):\n",
    "            # start\n",
    "            startSteps(buyers, sellers)\n",
    "\n",
    "            # set state\n",
    "            buyers[0].state = log.generateState(buyers[0], cnt, numStates)\n",
    "\n",
    "            # trade\n",
    "            bids, asks = collectOffers(buyers, sellers)\n",
    "            period_bids.append(np.round(bids[0]))\n",
    "            currentAsk, currentAskIdx, currentBid, currentBidIdx = bestOffers(bids, asks)\n",
    "            price, buy, sell = trade(buyers, sellers, currentAsk, currentAskIdx, currentBid, currentBidIdx)\n",
    "            bprofit, sprofit = 0, 0\n",
    "            if price > 0:\n",
    "                buyers[currentBidIdx].transact(price)\n",
    "                sellers[currentAskIdx].transact(price)\n",
    "                bprofit = buyers[currentBidIdx].stepProfits\n",
    "                sprofit = sellers[currentAskIdx].stepProfits\n",
    "            if currentBidIdx == 0:\n",
    "                score1 += bprofit\n",
    "                ss1 += bprofit\n",
    "            elif currentBidIdx == 1:\n",
    "                score2 += bprofit\n",
    "                ss2 += bprofit\n",
    "                \n",
    "            log.addStep([rnd, period, step, currentBid, currentAsk,  buy, sell, price, price>0,\n",
    "                         currentBidIdx==0, currentBidIdx==1, currentBidIdx==2, currentBidIdx==3, \n",
    "                         currentAskIdx==0, currentAskIdx==1, currentAskIdx==2, currentAskIdx==3, \n",
    "                         bids[0], bids[1], bids[2], bids[3], \n",
    "                         asks[0], asks[1], asks[2], asks[3], \n",
    "                         bprofit, sprofit])\n",
    "            observe(buyers, sellers, log.disclose())\n",
    "            endSteps(buyers, sellers)\n",
    "            buyers[0].newState = log.generateState(buyers[0], cnt, numStates)\n",
    "            cnt += 1\n",
    "            if step == numSteps - 1:\n",
    "                buyers[0].done = True\n",
    "            else:\n",
    "                buyers[0].done = False\n",
    "\n",
    "            agentsObserve(buyers, sellers)\n",
    "            agentsTrain(buyers, sellers)\n",
    "            state_record.append([step, currentBid, currentAsk,  buy, sell, price, price>0,\n",
    "                         currentBidIdx==0, currentBidIdx==1, currentBidIdx==2, currentBidIdx==3, \n",
    "                         currentAskIdx==0, currentAskIdx==1, currentAskIdx==2, currentAskIdx==3, \n",
    "                         bids[0], bids[1], bids[2], bids[3], \n",
    "                         asks[0], asks[1], asks[2], asks[3], buyers[0].periodTrades, buyers[0].roundTokens[0],buyers[0].roundTokens[1],buyers[0].roundTokens[2],buyers[0].roundTokens[3]])\n",
    "        endPeriods(buyers, sellers)\n",
    "        if period%print_interval==0:\n",
    "            print('\\t',ss1/print_interval, ss2/print_interval, )# round(buyers[0].algo.std,2), period_bids)\n",
    "            ss1 = 0\n",
    "            ss2 = 0\n",
    "        if period%print_interval==0:\n",
    "            print(step, round(score1 / print_interval, 2), round(score2 / 100, 2), )# round(buyers[0].algo.mean, 2), round(buyers[0].algo.std, 2), round(buyers[0].algo.action.item(), 2), period_bids)\n",
    "            score1 = 0.0\n",
    "            score2 = 0.0\n",
    "        \n",
    "    endRounds(buyers, sellers)"
   ]
  },
  {
   "cell_type": "code",
   "execution_count": null,
   "id": "60a1a22d-18d7-40d0-98b1-ab9895fd7a05",
   "metadata": {},
   "outputs": [],
   "source": [
    "buyers[0].state"
   ]
  },
  {
   "cell_type": "code",
   "execution_count": null,
   "id": "4fefaf3a-f806-4a5f-863f-dfa6f9722924",
   "metadata": {},
   "outputs": [],
   "source": [
    "log.findCurrentTraders()\n",
    "log.stepDataNorm.tail(500)"
   ]
  },
  {
   "cell_type": "code",
   "execution_count": null,
   "id": "dbc9172f-eb45-470c-b183-f9367a9fc243",
   "metadata": {},
   "outputs": [],
   "source": [
    "log.graphLearning(rolling_window = 1, trackBuyersIdx=[0], trackSellersIdx=[],  type = 'rnd')"
   ]
  },
  {
   "cell_type": "code",
   "execution_count": null,
   "id": "32456cb2-2ed8-4f1d-b073-f58314ad65be",
   "metadata": {},
   "outputs": [],
   "source": [
    "log.graphLearning(rolling_window = 10, trackBuyersIdx=[0], trackSellersIdx=[0])"
   ]
  },
  {
   "cell_type": "code",
   "execution_count": null,
   "id": "e1bae129-f77a-47bc-86c9-1b517840871d",
   "metadata": {},
   "outputs": [],
   "source": [
    "states = np.array(state_record)\n"
   ]
  },
  {
   "cell_type": "code",
   "execution_count": null,
   "id": "7f79efc1-6119-4fc8-b05a-d48290cc095b",
   "metadata": {},
   "outputs": [],
   "source": [
    "states = np.array(state_record)\n",
    "print(states.shape)\n",
    "cols = ['step', 'currentBid', 'currentAsk', 'buy', 'sell', 'price', 'sale',\n",
    "                                              'currentBidIdx_0', 'currentBidIdx_1', 'currentBidIdx_2', 'currentBidIdx_3',\n",
    "                                              'currentAskIdx_0', 'currentAskIdx_1', 'currentAskIdx_2', 'currentAskIdx_3',\n",
    "                                              'bids_0', 'bids_1', 'bids_2', 'bids_3',\n",
    "                                              'asks_0', 'asks_1', 'asks_2', 'asks_3']\n",
    "mean_df = pd.DataFrame(np.nanmean(states,axis=0)[:-5].reshape(1,-1), columns = cols)\n",
    "mean_df.to_csv('meanPublicData.csv', index=False)\n",
    "print(mean_df.shape)\n",
    "std_df = pd.DataFrame(np.nanstd(states,axis=0)[:-5].reshape(1,-1), columns = cols)\n",
    "std_df.to_csv('stdPublicData.csv', index=False)\n",
    "print(std_df.shape)"
   ]
  },
  {
   "cell_type": "code",
   "execution_count": null,
   "id": "3f67352d-e886-433a-b2a5-42f7e103f5ae",
   "metadata": {},
   "outputs": [],
   "source": [
    "mean_df"
   ]
  },
  {
   "cell_type": "code",
   "execution_count": null,
   "id": "396c4fc9-d11e-4a5f-8e21-947d672e6b03",
   "metadata": {},
   "outputs": [],
   "source": [
    "cols = ['trades', 'token0', 'token1', 'token2', 'token3']\n",
    "mean_df = pd.DataFrame(np.nanmean(states,axis=0)[-5:].reshape(1,-1), columns = cols)\n",
    "mean_df.to_csv('meanInternalData.csv', index=False)\n",
    "std_df = pd.DataFrame(np.nanstd(states,axis=0)[-5:].reshape(1,-1), columns = cols)\n",
    "std_df.to_csv('stdInternalData.csv', index=False)"
   ]
  },
  {
   "cell_type": "code",
   "execution_count": null,
   "id": "3dbdbcbf-47e4-4b0b-a61b-167d2caa5d1e",
   "metadata": {},
   "outputs": [],
   "source": [
    "mean_df"
   ]
  },
  {
   "cell_type": "code",
   "execution_count": null,
   "id": "4f578f26-385a-45de-a84d-5e3851ded6a8",
   "metadata": {},
   "outputs": [],
   "source": [
    "std_df"
   ]
  },
  {
   "cell_type": "code",
   "execution_count": null,
   "id": "d81a9cd5-ebab-4721-beda-52640b77bd1e",
   "metadata": {},
   "outputs": [],
   "source": [
    "buy"
   ]
  }
 ],
 "metadata": {
  "kernelspec": {
   "display_name": "Python 3 (ipykernel)",
   "language": "python",
   "name": "python3"
  },
  "language_info": {
   "codemirror_mode": {
    "name": "ipython",
    "version": 3
   },
   "file_extension": ".py",
   "mimetype": "text/x-python",
   "name": "python",
   "nbconvert_exporter": "python",
   "pygments_lexer": "ipython3",
   "version": "3.11.5"
  }
 },
 "nbformat": 4,
 "nbformat_minor": 5
}
