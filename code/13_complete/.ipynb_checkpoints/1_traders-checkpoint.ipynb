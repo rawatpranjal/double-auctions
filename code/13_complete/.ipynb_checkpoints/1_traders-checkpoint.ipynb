{
 "cells": [
  {
   "cell_type": "code",
   "execution_count": 1,
   "id": "abbed215-785c-4f29-a322-9459da56555c",
   "metadata": {},
   "outputs": [],
   "source": [
    "from utils import * \n",
    "from algorithms import *\n",
    "from agents import *"
   ]
  },
  {
   "cell_type": "code",
   "execution_count": 2,
   "id": "54b058a7-daef-4ff0-b07e-98d90150a1f7",
   "metadata": {},
   "outputs": [],
   "source": [
    "numRounds, numPeriods, numSteps = 4, 4, 16\n",
    "numBuyers, numSellers, numTokens = 4, 4, 4\n",
    "gameTypes, seed = '1111', None\n",
    "gameData = [gameTypes, numBuyers, numSellers, numTokens, numRounds, numPeriods, numSteps, seed]\n",
    "disclosure = ['step', 'currentBid', 'currentAsk', 'buy', 'sell', 'price', 'sale',\n",
    "              'currentBidIdx_0', 'currentBidIdx_1', 'currentBidIdx_2', 'currentBidIdx_3',\n",
    "              'currentAskIdx_0', 'currentAskIdx_1', 'currentAskIdx_2', 'currentAskIdx_3',\n",
    "              'bids_0', 'bids_1', 'bids_2', 'bids_3',\n",
    "              'asks_0', 'asks_1', 'asks_2', 'asks_3']\n",
    "depth = 1\n",
    "buyers = [ZeroIntelligence(gameData, disclosure, index=0, buyer=1, reinforcer=0),\n",
    "          ZeroIntelligence(gameData, disclosure, index=0, buyer=1, reinforcer=0),\n",
    "          ZeroIntelligence(gameData, disclosure, index=0, buyer=1, reinforcer=0),\n",
    "          ZeroIntelligence(gameData, disclosure, index=0, buyer=1, reinforcer=0)]\n",
    "sellers = [ZeroIntelligence(gameData, disclosure, index=0, buyer=0, reinforcer=0),\n",
    "           ZeroIntelligence(gameData, disclosure, index=0, buyer=0, reinforcer=0),\n",
    "           ZeroIntelligence(gameData, disclosure, index=0, buyer=0, reinforcer=0),\n",
    "           ZeroIntelligence(gameData, disclosure, index=0, buyer=0, reinforcer=0)]\n",
    "log = Log(gameData, disclosure,depth)\n",
    "rnd = 0\n",
    "state_record = []\n",
    "reward_record = []"
   ]
  },
  {
   "cell_type": "code",
   "execution_count": 3,
   "id": "8cf15179-c221-4dd7-836b-83b100754550",
   "metadata": {},
   "outputs": [],
   "source": [
    "for rnd in range(numRounds):\n",
    "    startRounds(gameData, log, buyers, sellers, rnd)\n",
    "    #print(log.roundData.buyerValues.item())\n",
    "    #print(log.roundData.sellerCosts.item())\n",
    "    for period in range(numPeriods):\n",
    "        startPeriods(buyers, sellers)\n",
    "        for step in range(numSteps):\n",
    "            startSteps(buyers, sellers)\n",
    "            #buyers[0].state = generateState(buyers[0], disclosure, depth)\n",
    "            bids, asks = collectOffers(buyers, sellers)\n",
    "            currentAsk, currentAskIdx, currentBid, currentBidIdx = bestOffers(bids, asks)\n",
    "            price, buy, sell = trade(buyers, sellers, currentAsk, currentAskIdx, currentBid, currentBidIdx)\n",
    "            bprofit, sprofit = 0, 0\n",
    "            if price > 0:\n",
    "                buyers[currentBidIdx].transact(price)\n",
    "                sellers[currentAskIdx].transact(price)\n",
    "                bprofit = buyers[currentBidIdx].stepProfits\n",
    "                sprofit = sellers[currentAskIdx].stepProfits\n",
    "            reward_record.append(buyers[0].stepProfits)\n",
    "            log.addStep([rnd, period, step, currentBid, currentAsk,  buy, sell, price, price>0,\n",
    "                         currentBidIdx==0, currentBidIdx==1, currentBidIdx==2, currentBidIdx==3, \n",
    "                         currentAskIdx==0, currentAskIdx==1, currentAskIdx==2, currentAskIdx==3, \n",
    "                         bids[0], bids[1], bids[2], bids[3], \n",
    "                         asks[0], asks[1], asks[2], asks[3], \n",
    "                         bprofit, sprofit])\n",
    "            observe(buyers, sellers, log.disclose())\n",
    "            agentsObserve(buyers, sellers)\n",
    "            agentsTrain(buyers, sellers)\n",
    "            endSteps(buyers, sellers)\n",
    "            state_record.append([step, buyers[0].periodTrades, bids, asks, currentBid, currentBidIdx, currentAsk, currentAskIdx, buy, sell, price, price>0])\n",
    "        endPeriods(buyers, sellers)\n",
    "    endRounds(buyers, sellers)"
   ]
  },
  {
   "cell_type": "markdown",
   "id": "99e41db6-c223-4bec-9088-c4b80de7ef16",
   "metadata": {},
   "source": [
    "# Compute Mean "
   ]
  },
  {
   "cell_type": "code",
   "execution_count": null,
   "id": "e29764ca-d5ee-43c9-8699-18d8d03e3a6f",
   "metadata": {},
   "outputs": [],
   "source": [
    "states = np.array(state_record)\n",
    "cols = ['step', 'sales', 'bids1','bids2','bids3','bids4', 'asks1','asks2','asks3','asks4', 'currentBid', 'currentBidIdx','currentAsk', 'currentAskIdx', 'buy', 'sell', 'price', 'sale']\n",
    "mean_df = pd.DataFrame(np.mean(states,axis=0).reshape(1,-1), columns = cols)\n",
    "mean_df.to_csv('mean_state.csv')\n",
    "cols = ['step', 'sales', 'bids1','bids2','bids3','bids4', 'asks1','asks2','asks3','asks4', 'currentBid', 'currentBidIdx','currentAsk', 'currentAskIdx', 'buy', 'sell', 'price', 'sale']\n",
    "std_df = pd.DataFrame(np.std(states,axis=0).reshape(1,-1), columns = cols)\n",
    "std_df.to_csv('std_state.csv')"
   ]
  },
  {
   "cell_type": "code",
   "execution_count": null,
   "id": "0fcb1fc8-9e26-40f0-bb73-52b6bce30f9d",
   "metadata": {},
   "outputs": [],
   "source": [
    "log.stepData.tail(1000)[['currentBidIdx', 'bprofit']].groupby('currentBidIdx').sum()/log.stepData.tail(1000).period.nunique()"
   ]
  },
  {
   "cell_type": "code",
   "execution_count": null,
   "id": "36603760-4d1e-408d-b57a-0f5f7aceabf8",
   "metadata": {},
   "outputs": [],
   "source": [
    "log.stepData.tail(1000)[['currentAskIdx', 'bprofit']].groupby('currentAskIdx').sum()/log.stepData.tail(1000).period.nunique()"
   ]
  },
  {
   "cell_type": "code",
   "execution_count": null,
   "id": "8a1f303c-9d48-469e-b36b-fe7e143fd398",
   "metadata": {},
   "outputs": [],
   "source": [
    "log.getPeriod(0, period-1)"
   ]
  },
  {
   "cell_type": "code",
   "execution_count": null,
   "id": "c6c2b4f8-1cea-4701-8ecf-719dc7d71a99",
   "metadata": {},
   "outputs": [],
   "source": [
    "log.graphLearning(rolling_window = 500, trackBuyersIdx=[0], trackSellersIdx=[0])"
   ]
  },
  {
   "cell_type": "code",
   "execution_count": null,
   "id": "93453065-f02b-4c3e-a131-cdd32cc33614",
   "metadata": {},
   "outputs": [],
   "source": [
    "log.graphSales(0, period-1, trackBuyersIdx=[0], trackSellersIdx=[0])"
   ]
  },
  {
   "cell_type": "code",
   "execution_count": null,
   "id": "b8fb3d6f-9bfc-4e15-9ae3-59924ed29d07",
   "metadata": {},
   "outputs": [],
   "source": [
    "log.stepData.tail(15)"
   ]
  },
  {
   "cell_type": "code",
   "execution_count": null,
   "id": "6cd7d3bb-5f6e-4fc3-b7cc-078bcdbee248",
   "metadata": {},
   "outputs": [],
   "source": [
    "log.getPeriod(0, period-1).sum()"
   ]
  },
  {
   "cell_type": "code",
   "execution_count": null,
   "id": "3ba8be92-6c97-4fbc-b522-d4a1daea7740",
   "metadata": {},
   "outputs": [],
   "source": [
    "log.graphOffers(0, period-1, trackBuyersIdx=[0], trackSellersIdx=[0])"
   ]
  },
  {
   "cell_type": "code",
   "execution_count": null,
   "id": "908825b6-3773-4bd4-a409-cf2fc8939af0",
   "metadata": {},
   "outputs": [],
   "source": [
    "log.graphTraining(maxNumPeriods=period-1, skip = int((period-1)/20), trackBuyersIdx = [0])"
   ]
  }
 ],
 "metadata": {
  "kernelspec": {
   "display_name": "Python 3 (ipykernel)",
   "language": "python",
   "name": "python3"
  },
  "language_info": {
   "codemirror_mode": {
    "name": "ipython",
    "version": 3
   },
   "file_extension": ".py",
   "mimetype": "text/x-python",
   "name": "python",
   "nbconvert_exporter": "python",
   "pygments_lexer": "ipython3",
   "version": "3.11.5"
  }
 },
 "nbformat": 4,
 "nbformat_minor": 5
}
