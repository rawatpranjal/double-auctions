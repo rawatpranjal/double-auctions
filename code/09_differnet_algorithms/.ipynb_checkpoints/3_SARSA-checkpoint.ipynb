{
 "cells": [
  {
   "cell_type": "code",
   "execution_count": 1,
   "id": "abbed215-785c-4f29-a322-9459da56555c",
   "metadata": {},
   "outputs": [],
   "source": [
    "from utils import * \n",
    "from algorithms import *\n",
    "from agents import *"
   ]
  },
  {
   "cell_type": "code",
   "execution_count": 2,
   "id": "54b058a7-daef-4ff0-b07e-98d90150a1f7",
   "metadata": {},
   "outputs": [],
   "source": [
    "numRounds, numPeriods, numSteps = 1, 10000, 10\n",
    "numBuyers, numSellers, numTokens = 4, 4, 4\n",
    "gameTypes, seed = '1111', 42\n",
    "disclosure = []\n",
    "depth = 0\n",
    "gameData = [gameTypes, numBuyers, numSellers, numTokens, numRounds, numPeriods, numSteps, seed]\n",
    "verbose = 0\n",
    "numStates = 2\n",
    "numActions = 20\n",
    "epsilon = 0.99\n",
    "min_epsilon = 0.05\n",
    "epsilon_decay = 0.99995\n",
    "alpha = 0.1\n",
    "gamma = 0.99\n",
    "buyers = [Reinforcer(gameData, disclosure, index=0, buyer=1, reinforcer=1, algo = 'SARSA',\n",
    "                     algoArgs = [numStates, numActions, epsilon, min_epsilon, epsilon_decay, alpha, gamma]),\n",
    "          ZeroIntelligence(gameData, disclosure, index=0, buyer=1, reinforcer=0),\n",
    "          ZeroIntelligence(gameData, disclosure, index=0, buyer=1, reinforcer=0),\n",
    "          ZeroIntelligence(gameData, disclosure, index=0, buyer=1, reinforcer=0)]\n",
    "sellers = [ZeroIntelligence(gameData, disclosure, index=0, buyer=0, reinforcer=0),\n",
    "           ZeroIntelligence(gameData, disclosure, index=0, buyer=0, reinforcer=0),\n",
    "           ZeroIntelligence(gameData, disclosure, index=0, buyer=0, reinforcer=0),\n",
    "           ZeroIntelligence(gameData, disclosure, index=0, buyer=0, reinforcer=0)]\n",
    "log = Log(gameData, disclosure)\n",
    "rnd = 0"
   ]
  },
  {
   "cell_type": "code",
   "execution_count": 3,
   "id": "5410cb61-719b-43e6-9c74-b200030fd0f9",
   "metadata": {},
   "outputs": [
    {
     "data": {
      "text/plain": [
       "array([[85.82202637, 81.73001813, 81.63077519, 77.98802756],\n",
       "       [86.00286066, 81.75851481, 77.79014457, 77.22312836],\n",
       "       [83.24607464, 78.75300079, 77.92916939, 77.73215368],\n",
       "       [81.78455651, 76.72373723, 71.09604113, 70.44124563]])"
      ]
     },
     "execution_count": 3,
     "metadata": {},
     "output_type": "execute_result"
    }
   ],
   "source": [
    "startRounds(gameData, log, buyers, sellers, rnd)\n",
    "log.roundData.buyerValues.item()"
   ]
  },
  {
   "cell_type": "code",
   "execution_count": null,
   "id": "8cf15179-c221-4dd7-836b-83b100754550",
   "metadata": {},
   "outputs": [
    {
     "name": "stdout",
     "output_type": "stream",
     "text": [
      "0.0766963133559822 0.9895545890896058\n",
      "50.438557438347736 0.8517143338962497\n",
      "50.82721539116305 0.7330745716936349\n"
     ]
    }
   ],
   "source": [
    "for rnd in range(numRounds):\n",
    "    startRounds(gameData, log, buyers, sellers, rnd)\n",
    "    #print(log.roundData.buyerValues.item())\n",
    "    score = 0.0\n",
    "    for period in range(numPeriods):\n",
    "        startPeriods(buyers, sellers)\n",
    "        for step in range(numSteps):\n",
    "            # start\n",
    "            startSteps(buyers, sellers)\n",
    "\n",
    "            # set state\n",
    "            buyers[0].state = [step, buyers[0].periodTrades]\n",
    "\n",
    "            # trade\n",
    "            bids, asks = collectOffers(buyers, sellers)\n",
    "            currentAsk, currentAskIdx, currentBid, currentBidIdx = bestOffers(bids, asks)\n",
    "            price, buy, sell = trade(buyers, sellers, currentAsk, currentAskIdx, currentBid, currentBidIdx)\n",
    "            bprofit, sprofit = 0, 0\n",
    "            if price > 0:\n",
    "                buyers[currentBidIdx].transact(price)\n",
    "                sellers[currentAskIdx].transact(price)\n",
    "                bprofit = buyers[currentBidIdx].stepProfits\n",
    "                sprofit = sellers[currentAskIdx].stepProfits\n",
    "            if currentBidIdx == 0:\n",
    "                score += bprofit\n",
    "                \n",
    "            # log and end step\n",
    "            log.addStep([rnd, period, step, bids, asks, currentBid, currentBidIdx, currentAsk, currentAskIdx, buy, sell, price, price>0, bprofit, sprofit])\n",
    "            observe(buyers, sellers, log.disclose())\n",
    "            endSteps(buyers, sellers) # updates period counters\n",
    "\n",
    "            # new state and done\n",
    "            buyers[0].newState = [step+1, buyers[0].periodTrades]\n",
    "            if buyers[0].periodSteps == numSteps - 1:\n",
    "                buyers[0].done = True\n",
    "            else:\n",
    "                buyers[0].done = False\n",
    "\n",
    "            agentsObserve(buyers, sellers)\n",
    "            agentsTrain(buyers, sellers)\n",
    "\n",
    "        endPeriods(buyers, sellers)\n",
    "        if period%300==0:\n",
    "            print(score/300, buyers[0].algo.epsilon)\n",
    "            score = 0.0\n",
    "    endRounds(buyers, sellers)"
   ]
  },
  {
   "cell_type": "code",
   "execution_count": null,
   "id": "e60143a5-167d-4bd3-ac69-7d61e09e4d6f",
   "metadata": {},
   "outputs": [],
   "source": [
    "log.graphLearning(rolling_window = 100, trackBuyersIdx=[0], trackSellersIdx=[0])"
   ]
  },
  {
   "cell_type": "code",
   "execution_count": null,
   "id": "c6c2b4f8-1cea-4701-8ecf-719dc7d71a99",
   "metadata": {},
   "outputs": [],
   "source": [
    "log.graphLearning(rolling_window = 100, trackBuyersIdx=[0], trackSellersIdx=[0])"
   ]
  },
  {
   "cell_type": "code",
   "execution_count": null,
   "id": "93453065-f02b-4c3e-a131-cdd32cc33614",
   "metadata": {},
   "outputs": [],
   "source": [
    "log.graphSales(0, period-1, trackBuyersIdx=[0], trackSellersIdx=[])"
   ]
  },
  {
   "cell_type": "code",
   "execution_count": null,
   "id": "b8fb3d6f-9bfc-4e15-9ae3-59924ed29d07",
   "metadata": {},
   "outputs": [],
   "source": [
    "log.stepData.tail(15)"
   ]
  },
  {
   "cell_type": "code",
   "execution_count": null,
   "id": "6cd7d3bb-5f6e-4fc3-b7cc-078bcdbee248",
   "metadata": {},
   "outputs": [],
   "source": [
    "log.getPeriod(0, period-1).sum()"
   ]
  },
  {
   "cell_type": "code",
   "execution_count": null,
   "id": "3ba8be92-6c97-4fbc-b522-d4a1daea7740",
   "metadata": {},
   "outputs": [],
   "source": [
    "log.graphOffers(0, period-1, trackBuyersIdx=[0], trackSellersIdx=[0])"
   ]
  },
  {
   "cell_type": "code",
   "execution_count": null,
   "id": "908825b6-3773-4bd4-a409-cf2fc8939af0",
   "metadata": {},
   "outputs": [],
   "source": [
    "log.graphTraining(maxNumPeriods=period-1, skip = int((period-1)/20), trackBuyersIdx = [0])"
   ]
  },
  {
   "cell_type": "code",
   "execution_count": null,
   "id": "3e10b395-34a1-4d4f-822d-096db9cc48be",
   "metadata": {},
   "outputs": [],
   "source": []
  },
  {
   "cell_type": "code",
   "execution_count": null,
   "id": "8fcc8204-3bf7-4f89-bd0b-45518d6057c7",
   "metadata": {},
   "outputs": [],
   "source": []
  }
 ],
 "metadata": {
  "kernelspec": {
   "display_name": "Python 3 (ipykernel)",
   "language": "python",
   "name": "python3"
  },
  "language_info": {
   "codemirror_mode": {
    "name": "ipython",
    "version": 3
   },
   "file_extension": ".py",
   "mimetype": "text/x-python",
   "name": "python",
   "nbconvert_exporter": "python",
   "pygments_lexer": "ipython3",
   "version": "3.11.5"
  }
 },
 "nbformat": 4,
 "nbformat_minor": 5
}
