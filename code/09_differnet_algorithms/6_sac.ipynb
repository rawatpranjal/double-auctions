{
 "cells": [
  {
   "cell_type": "code",
   "execution_count": 1,
   "id": "abbed215-785c-4f29-a322-9459da56555c",
   "metadata": {},
   "outputs": [],
   "source": [
    "from utils import * \n",
    "from algorithms import *\n",
    "from agents import *"
   ]
  },
  {
   "cell_type": "code",
   "execution_count": 2,
   "id": "54b058a7-daef-4ff0-b07e-98d90150a1f7",
   "metadata": {},
   "outputs": [],
   "source": [
    "numRounds, numPeriods, numSteps = 1, 5000, 10\n",
    "numBuyers, numSellers, numTokens = 4, 4, 4\n",
    "gameTypes, seed = '1111', 42\n",
    "disclosure = []\n",
    "depth = 0\n",
    "gameData = [gameTypes, numBuyers, numSellers, numTokens, numRounds, numPeriods, numSteps, seed]\n",
    "verbose = 1\n",
    "num_states = numStates = 2\n",
    "buyers = [Reinforcer(gameData, disclosure, index=0, buyer=1, reinforcer=1, numStates = numStates, algo='SAC1', algoArgs = [num_states, verbose]),\n",
    "          ZeroIntelligence(gameData, disclosure, index=0, buyer=1, reinforcer=0),\n",
    "          ZeroIntelligence(gameData, disclosure, index=0, buyer=1, reinforcer=0),\n",
    "          ZeroIntelligence(gameData, disclosure, index=0, buyer=1, reinforcer=0)]\n",
    "sellers = [ZeroIntelligence(gameData, disclosure, index=0, buyer=0, reinforcer=0),\n",
    "           ZeroIntelligence(gameData, disclosure, index=0, buyer=0, reinforcer=0),\n",
    "           ZeroIntelligence(gameData, disclosure, index=0, buyer=0, reinforcer=0),\n",
    "           ZeroIntelligence(gameData, disclosure, index=0, buyer=0, reinforcer=0)]\n",
    "log = Log(gameData, disclosure)\n",
    "rnd = 0"
   ]
  },
  {
   "cell_type": "code",
   "execution_count": 3,
   "id": "8cf15179-c221-4dd7-836b-83b100754550",
   "metadata": {
    "scrolled": true
   },
   "outputs": [
    {
     "name": "stdout",
     "output_type": "stream",
     "text": [
      "8.682149826254596\n",
      "35.626562636567996\n",
      "47.366850948379735\n",
      "43.22035319209231\n",
      "33.084091488255\n",
      "36.573579586030725\n",
      "46.17033049279094\n",
      "43.84089880923189\n",
      "50.21793387362901\n",
      "47.32362990124073\n",
      "46.21773741578441\n",
      "39.911838102849075\n",
      "41.638370818146704\n",
      "45.28886249602464\n",
      "43.149127663124574\n",
      "30.209009799290435\n",
      "48.62754926219385\n",
      "44.26964438594245\n",
      "39.56972154088033\n",
      "50.518982507410726\n",
      "30.217152840905634\n",
      "0.0\n",
      "0.0\n",
      "0.0\n",
      "0.0\n",
      "0.0\n",
      "0.0\n",
      "0.0\n",
      "0.0\n",
      "0.0\n",
      "0.0\n",
      "0.0\n",
      "0.0\n",
      "0.0\n",
      "0.0\n",
      "0.0\n",
      "0.0\n",
      "0.0\n"
     ]
    },
    {
     "ename": "RuntimeError",
     "evalue": "Function 'TanhBackward0' returned nan values in its 0th output.",
     "output_type": "error",
     "traceback": [
      "\u001b[0;31m---------------------------------------------------------------------------\u001b[0m",
      "\u001b[0;31mRuntimeError\u001b[0m                              Traceback (most recent call last)",
      "Cell \u001b[0;32mIn[3], line 42\u001b[0m\n\u001b[1;32m     40\u001b[0m     \u001b[38;5;66;03m# load data and train\u001b[39;00m\n\u001b[1;32m     41\u001b[0m     agentsObserve(buyers, sellers)\n\u001b[0;32m---> 42\u001b[0m     \u001b[43magentsTrain\u001b[49m\u001b[43m(\u001b[49m\u001b[43mbuyers\u001b[49m\u001b[43m,\u001b[49m\u001b[43m \u001b[49m\u001b[43msellers\u001b[49m\u001b[43m)\u001b[49m\n\u001b[1;32m     44\u001b[0m endPeriods(buyers, sellers)\n\u001b[1;32m     45\u001b[0m \u001b[38;5;28;01mif\u001b[39;00m period\u001b[38;5;241m%\u001b[39mprint_interval\u001b[38;5;241m==\u001b[39m\u001b[38;5;241m0\u001b[39m:\n",
      "File \u001b[0;32m/econ_share/home/pp712/double-auctions/code/9_final/utils.py:204\u001b[0m, in \u001b[0;36magentsTrain\u001b[0;34m(buyers, sellers)\u001b[0m\n\u001b[1;32m    202\u001b[0m \u001b[38;5;28;01mfor\u001b[39;00m buyer \u001b[38;5;129;01min\u001b[39;00m buyers:\n\u001b[1;32m    203\u001b[0m     \u001b[38;5;28;01mif\u001b[39;00m buyer\u001b[38;5;241m.\u001b[39mreinforcer \u001b[38;5;241m==\u001b[39m \u001b[38;5;241m1\u001b[39m:\n\u001b[0;32m--> 204\u001b[0m         \u001b[43mbuyer\u001b[49m\u001b[38;5;241;43m.\u001b[39;49m\u001b[43mtrain\u001b[49m\u001b[43m(\u001b[49m\u001b[43m)\u001b[49m\n\u001b[1;32m    205\u001b[0m \u001b[38;5;28;01mfor\u001b[39;00m seller \u001b[38;5;129;01min\u001b[39;00m sellers:\n\u001b[1;32m    206\u001b[0m     \u001b[38;5;28;01mif\u001b[39;00m seller\u001b[38;5;241m.\u001b[39mreinforcer \u001b[38;5;241m==\u001b[39m \u001b[38;5;241m1\u001b[39m:\n",
      "File \u001b[0;32m/econ_share/home/pp712/double-auctions/code/9_final/agents.py:130\u001b[0m, in \u001b[0;36mReinforcer.train\u001b[0;34m(self)\u001b[0m\n\u001b[1;32m    129\u001b[0m \u001b[38;5;28;01mdef\u001b[39;00m \u001b[38;5;21mtrain\u001b[39m(\u001b[38;5;28mself\u001b[39m):\n\u001b[0;32m--> 130\u001b[0m     \u001b[38;5;28;43mself\u001b[39;49m\u001b[38;5;241;43m.\u001b[39;49m\u001b[43malgo\u001b[49m\u001b[38;5;241;43m.\u001b[39;49m\u001b[43mtrain\u001b[49m\u001b[43m(\u001b[49m\u001b[43m)\u001b[49m\n",
      "File \u001b[0;32m/econ_share/home/pp712/double-auctions/code/9_final/algorithms.py:1106\u001b[0m, in \u001b[0;36mtrain\u001b[0;34m(self)\u001b[0m\n\u001b[1;32m   1105\u001b[0m \u001b[38;5;28;01mdef\u001b[39;00m \u001b[38;5;21mtrain\u001b[39m(\u001b[38;5;28mself\u001b[39m):\n\u001b[0;32m-> 1106\u001b[0m     \u001b[38;5;28;01mif\u001b[39;00m \u001b[38;5;28mself\u001b[39m\u001b[38;5;241m.\u001b[39mmemory\u001b[38;5;241m.\u001b[39msize()\u001b[38;5;241m>\u001b[39m\u001b[38;5;28mself\u001b[39m\u001b[38;5;241m.\u001b[39mwait_period:\n\u001b[1;32m   1107\u001b[0m         \u001b[38;5;28;01mfor\u001b[39;00m i \u001b[38;5;129;01min\u001b[39;00m \u001b[38;5;28mrange\u001b[39m(\u001b[38;5;28mself\u001b[39m\u001b[38;5;241m.\u001b[39mgrad_steps):\n\u001b[1;32m   1108\u001b[0m             mini_batch \u001b[38;5;241m=\u001b[39m \u001b[38;5;28mself\u001b[39m\u001b[38;5;241m.\u001b[39mmemory\u001b[38;5;241m.\u001b[39msample(\u001b[38;5;28mself\u001b[39m\u001b[38;5;241m.\u001b[39mbatch_size)\n",
      "File \u001b[0;32m/econ_share/home/pp712/double-auctions/code/9_final/algorithms.py:1012\u001b[0m, in \u001b[0;36mtrain_net\u001b[0;34m(self, q1, q2, mini_batch, memory)\u001b[0m\n\u001b[1;32m   1009\u001b[0m a, log_prob \u001b[38;5;241m=\u001b[39m \u001b[38;5;28mself\u001b[39m\u001b[38;5;241m.\u001b[39mforward(s)\n\u001b[1;32m   1010\u001b[0m entropy \u001b[38;5;241m=\u001b[39m \u001b[38;5;241m-\u001b[39m\u001b[38;5;28mself\u001b[39m\u001b[38;5;241m.\u001b[39mlog_alpha\u001b[38;5;241m.\u001b[39mexp() \u001b[38;5;241m*\u001b[39m log_prob\n\u001b[0;32m-> 1012\u001b[0m q1_val, q2_val \u001b[38;5;241m=\u001b[39m q1(s,a), q2(s,a)\n\u001b[1;32m   1013\u001b[0m q1_q2 \u001b[38;5;241m=\u001b[39m torch\u001b[38;5;241m.\u001b[39mcat([q1_val, q2_val], dim\u001b[38;5;241m=\u001b[39m\u001b[38;5;241m1\u001b[39m)\n\u001b[1;32m   1014\u001b[0m min_q \u001b[38;5;241m=\u001b[39m torch\u001b[38;5;241m.\u001b[39mmin(q1_q2, \u001b[38;5;241m1\u001b[39m, keepdim\u001b[38;5;241m=\u001b[39m\u001b[38;5;28;01mTrue\u001b[39;00m)[\u001b[38;5;241m0\u001b[39m]\n",
      "File \u001b[0;32m/econ_share/home/pp712/myenv/lib/python3.11/site-packages/torch/_tensor.py:487\u001b[0m, in \u001b[0;36mTensor.backward\u001b[0;34m(self, gradient, retain_graph, create_graph, inputs)\u001b[0m\n\u001b[1;32m    477\u001b[0m \u001b[38;5;28;01mif\u001b[39;00m has_torch_function_unary(\u001b[38;5;28mself\u001b[39m):\n\u001b[1;32m    478\u001b[0m     \u001b[38;5;28;01mreturn\u001b[39;00m handle_torch_function(\n\u001b[1;32m    479\u001b[0m         Tensor\u001b[38;5;241m.\u001b[39mbackward,\n\u001b[1;32m    480\u001b[0m         (\u001b[38;5;28mself\u001b[39m,),\n\u001b[0;32m   (...)\u001b[0m\n\u001b[1;32m    485\u001b[0m         inputs\u001b[38;5;241m=\u001b[39minputs,\n\u001b[1;32m    486\u001b[0m     )\n\u001b[0;32m--> 487\u001b[0m \u001b[43mtorch\u001b[49m\u001b[38;5;241;43m.\u001b[39;49m\u001b[43mautograd\u001b[49m\u001b[38;5;241;43m.\u001b[39;49m\u001b[43mbackward\u001b[49m\u001b[43m(\u001b[49m\n\u001b[1;32m    488\u001b[0m \u001b[43m    \u001b[49m\u001b[38;5;28;43mself\u001b[39;49m\u001b[43m,\u001b[49m\u001b[43m \u001b[49m\u001b[43mgradient\u001b[49m\u001b[43m,\u001b[49m\u001b[43m \u001b[49m\u001b[43mretain_graph\u001b[49m\u001b[43m,\u001b[49m\u001b[43m \u001b[49m\u001b[43mcreate_graph\u001b[49m\u001b[43m,\u001b[49m\u001b[43m \u001b[49m\u001b[43minputs\u001b[49m\u001b[38;5;241;43m=\u001b[39;49m\u001b[43minputs\u001b[49m\n\u001b[1;32m    489\u001b[0m \u001b[43m\u001b[49m\u001b[43m)\u001b[49m\n",
      "File \u001b[0;32m/econ_share/home/pp712/myenv/lib/python3.11/site-packages/torch/autograd/__init__.py:200\u001b[0m, in \u001b[0;36mbackward\u001b[0;34m(tensors, grad_tensors, retain_graph, create_graph, grad_variables, inputs)\u001b[0m\n\u001b[1;32m    195\u001b[0m     retain_graph \u001b[38;5;241m=\u001b[39m create_graph\n\u001b[1;32m    197\u001b[0m \u001b[38;5;66;03m# The reason we repeat same the comment below is that\u001b[39;00m\n\u001b[1;32m    198\u001b[0m \u001b[38;5;66;03m# some Python versions print out the first line of a multi-line function\u001b[39;00m\n\u001b[1;32m    199\u001b[0m \u001b[38;5;66;03m# calls in the traceback and some print out the last line\u001b[39;00m\n\u001b[0;32m--> 200\u001b[0m \u001b[43mVariable\u001b[49m\u001b[38;5;241;43m.\u001b[39;49m\u001b[43m_execution_engine\u001b[49m\u001b[38;5;241;43m.\u001b[39;49m\u001b[43mrun_backward\u001b[49m\u001b[43m(\u001b[49m\u001b[43m  \u001b[49m\u001b[38;5;66;43;03m# Calls into the C++ engine to run the backward pass\u001b[39;49;00m\n\u001b[1;32m    201\u001b[0m \u001b[43m    \u001b[49m\u001b[43mtensors\u001b[49m\u001b[43m,\u001b[49m\u001b[43m \u001b[49m\u001b[43mgrad_tensors_\u001b[49m\u001b[43m,\u001b[49m\u001b[43m \u001b[49m\u001b[43mretain_graph\u001b[49m\u001b[43m,\u001b[49m\u001b[43m \u001b[49m\u001b[43mcreate_graph\u001b[49m\u001b[43m,\u001b[49m\u001b[43m \u001b[49m\u001b[43minputs\u001b[49m\u001b[43m,\u001b[49m\n\u001b[1;32m    202\u001b[0m \u001b[43m    \u001b[49m\u001b[43mallow_unreachable\u001b[49m\u001b[38;5;241;43m=\u001b[39;49m\u001b[38;5;28;43;01mTrue\u001b[39;49;00m\u001b[43m,\u001b[49m\u001b[43m \u001b[49m\u001b[43maccumulate_grad\u001b[49m\u001b[38;5;241;43m=\u001b[39;49m\u001b[38;5;28;43;01mTrue\u001b[39;49;00m\u001b[43m)\u001b[49m\n",
      "\u001b[0;31mRuntimeError\u001b[0m: Function 'TanhBackward0' returned nan values in its 0th output."
     ]
    }
   ],
   "source": [
    "print_interval = 10\n",
    "for rnd in range(numRounds):\n",
    "    startRounds(gameData, log, buyers, sellers, rnd)\n",
    "    #print(log.roundData.buyerValues.item())\n",
    "    score = 0.0\n",
    "    for period in range(numPeriods):\n",
    "        startPeriods(buyers, sellers)\n",
    "        for step in range(numSteps):\n",
    "            # start\n",
    "            startSteps(buyers, sellers)\n",
    "\n",
    "            # set state\n",
    "            buyers[0].state = [buyers[0].periodSteps, buyers[0].periodTrades]\n",
    "\n",
    "            # trade\n",
    "            bids, asks = collectOffers(buyers, sellers)\n",
    "            currentAsk, currentAskIdx, currentBid, currentBidIdx = bestOffers(bids, asks)\n",
    "            price, buy, sell = trade(buyers, sellers, currentAsk, currentAskIdx, currentBid, currentBidIdx)\n",
    "            bprofit, sprofit = 0, 0\n",
    "            if price > 0:\n",
    "                buyers[currentBidIdx].transact(price)\n",
    "                sellers[currentAskIdx].transact(price)\n",
    "                bprofit = buyers[currentBidIdx].stepProfits\n",
    "                sprofit = sellers[currentAskIdx].stepProfits\n",
    "            if currentBidIdx == 0:\n",
    "                score += bprofit\n",
    "                \n",
    "            # log and end step\n",
    "            log.addStep([rnd, period, step, bids, asks, currentBid, currentBidIdx, currentAsk, currentAskIdx, buy, sell, price, price>0, bprofit, sprofit])\n",
    "            observe(buyers, sellers, log.disclose())\n",
    "            endSteps(buyers, sellers) # updates period counters\n",
    "\n",
    "            # new state and done\n",
    "            buyers[0].newState = [step+1, buyers[0].periodTrades]\n",
    "            if buyers[0].periodSteps == numSteps - 1:\n",
    "                buyers[0].done = True\n",
    "            else:\n",
    "                buyers[0].done = False\n",
    "\n",
    "            # load data and train\n",
    "            agentsObserve(buyers, sellers)\n",
    "            agentsTrain(buyers, sellers)\n",
    "\n",
    "        endPeriods(buyers, sellers)\n",
    "        if period%print_interval==0:\n",
    "            print(score/print_interval)\n",
    "            score = 0.0\n",
    "    endRounds(buyers, sellers)"
   ]
  },
  {
   "cell_type": "code",
   "execution_count": null,
   "id": "c6c2b4f8-1cea-4701-8ecf-719dc7d71a99",
   "metadata": {},
   "outputs": [],
   "source": [
    "log.graphLearning(rolling_window = 100, trackBuyersIdx=[0], trackSellersIdx=[0])"
   ]
  },
  {
   "cell_type": "code",
   "execution_count": null,
   "id": "93453065-f02b-4c3e-a131-cdd32cc33614",
   "metadata": {},
   "outputs": [],
   "source": [
    "log.graphSales(0, period-1, trackBuyersIdx=[0], trackSellersIdx=[0])"
   ]
  },
  {
   "cell_type": "code",
   "execution_count": null,
   "id": "0119630f-c208-4593-9b7e-2bd26ca76fec",
   "metadata": {},
   "outputs": [],
   "source": [
    "log.roundData.buyerValues.item()"
   ]
  },
  {
   "cell_type": "code",
   "execution_count": null,
   "id": "b8fb3d6f-9bfc-4e15-9ae3-59924ed29d07",
   "metadata": {},
   "outputs": [],
   "source": [
    "log.stepData.tail(15)"
   ]
  },
  {
   "cell_type": "code",
   "execution_count": null,
   "id": "3ba8be92-6c97-4fbc-b522-d4a1daea7740",
   "metadata": {},
   "outputs": [],
   "source": [
    "log.graphOffers(0, period-1, trackBuyersIdx=[0], trackSellersIdx=[0])"
   ]
  },
  {
   "cell_type": "code",
   "execution_count": null,
   "id": "908825b6-3773-4bd4-a409-cf2fc8939af0",
   "metadata": {},
   "outputs": [],
   "source": [
    "log.graphTraining(maxNumPeriods=period-1, skip = int((period-1)/50), trackBuyersIdx = [0])"
   ]
  },
  {
   "cell_type": "code",
   "execution_count": null,
   "id": "d850bc2c-9e0a-48de-9032-881c2711a962",
   "metadata": {},
   "outputs": [],
   "source": []
  },
  {
   "cell_type": "code",
   "execution_count": null,
   "id": "7f06eda1-edfb-4187-ac46-2756d315b204",
   "metadata": {},
   "outputs": [],
   "source": []
  },
  {
   "cell_type": "code",
   "execution_count": null,
   "id": "cb1c10a3-fa55-43a9-85fa-42ff4d2d9767",
   "metadata": {},
   "outputs": [],
   "source": []
  },
  {
   "cell_type": "code",
   "execution_count": null,
   "id": "e8704ba8-00e3-4c5c-bff0-a2659de82d37",
   "metadata": {},
   "outputs": [],
   "source": []
  },
  {
   "cell_type": "code",
   "execution_count": null,
   "id": "7d880e40-b4e8-498f-8ea3-ac3b446ab80d",
   "metadata": {},
   "outputs": [],
   "source": []
  },
  {
   "cell_type": "code",
   "execution_count": null,
   "id": "ca6f51a3-593b-4104-8a55-4138c15763ea",
   "metadata": {},
   "outputs": [],
   "source": []
  },
  {
   "cell_type": "code",
   "execution_count": null,
   "id": "ce7e0bb3-9977-49b2-a194-280772256cb1",
   "metadata": {},
   "outputs": [],
   "source": []
  }
 ],
 "metadata": {
  "kernelspec": {
   "display_name": "Python 3 (ipykernel)",
   "language": "python",
   "name": "python3"
  },
  "language_info": {
   "codemirror_mode": {
    "name": "ipython",
    "version": 3
   },
   "file_extension": ".py",
   "mimetype": "text/x-python",
   "name": "python",
   "nbconvert_exporter": "python",
   "pygments_lexer": "ipython3",
   "version": "3.11.5"
  }
 },
 "nbformat": 4,
 "nbformat_minor": 5
}
