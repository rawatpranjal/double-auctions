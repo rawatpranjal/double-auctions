{
 "cells": [
  {
   "cell_type": "markdown",
   "id": "ac281e96",
   "metadata": {},
   "source": [
    "### 2 Period Bilateral Bargain"
   ]
  },
  {
   "cell_type": "code",
   "execution_count": 64,
   "id": "6f61f4c7",
   "metadata": {},
   "outputs": [
    {
     "name": "stdout",
     "output_type": "stream",
     "text": [
      "Seller value: 0.32 Buyer value: 1 Bid1: 0.7 Reward1: 0.3 State: 1 Bid2: 0.8 Reward2: 0 Epsilon: 0.99\n",
      "Seller value: 1.0 Buyer value: 1 Bid1: 0.5 Reward1: 0 State: 0 Bid2: 0.2 Reward2: 0 Epsilon: 0.77\n",
      "Seller value: 0.53 Buyer value: 1 Bid1: 0.1 Reward1: 0 State: 0 Bid2: 0.2 Reward2: 0 Epsilon: 0.6\n",
      "Seller value: 0.6 Buyer value: 1 Bid1: 0.6 Reward1: 0 State: 0 Bid2: 0.8 Reward2: 0.2 Epsilon: 0.47\n",
      "Seller value: 0.47 Buyer value: 1 Bid1: 0.6 Reward1: 0.4 State: 1 Bid2: 0.0 Reward2: 0 Epsilon: 0.36\n",
      "Seller value: 1.1 Buyer value: 1 Bid1: 1.0 Reward1: 0 State: 0 Bid2: 0.8 Reward2: 0 Epsilon: 0.28\n",
      "Seller value: 0.82 Buyer value: 1 Bid1: 0.6 Reward1: 0 State: 0 Bid2: 0.8 Reward2: 0 Epsilon: 0.22\n",
      "Seller value: 0.88 Buyer value: 1 Bid1: 0.5 Reward1: 0 State: 0 Bid2: 0.8 Reward2: 0 Epsilon: 0.17\n",
      "Seller value: 0.55 Buyer value: 1 Bid1: 0.0 Reward1: 0 State: 0 Bid2: 0.8 Reward2: 0.2 Epsilon: 0.13\n",
      "Seller value: 0.42 Buyer value: 1 Bid1: 0.5 Reward1: 0.5 State: 1 Bid2: 0.0 Reward2: 0 Epsilon: 0.1\n"
     ]
    }
   ],
   "source": [
    "import numpy as np\n",
    "\n",
    "# Buyer realizes value \n",
    "value_buyer = 1\n",
    "    \n",
    "# Parameters\n",
    "avg_value_seller = 0.5\n",
    "std_value_seller = 0.2\n",
    "\n",
    "# Hyperparameters\n",
    "num_actions = 11\n",
    "num_episodes = 50000\n",
    "alpha = 0.1  # Learning rate\n",
    "gamma = 1  # No discount for immediate rewards\n",
    "initial_epsilon = 0.99\n",
    "epsilon_decay = 0.99995  # Decay factor for epsilon\n",
    "min_epsilon = 0.01\n",
    "\n",
    "# Divide the buyer value range into 11 divisions\n",
    "buyer_value_divisions = np.linspace(0.5, 1.0, num_actions)\n",
    "\n",
    "# Q-table initialization\n",
    "num_states = 2\n",
    "q_table_period1 = np.zeros((num_actions))\n",
    "q_table_period2 = np.zeros((num_states, num_actions))\n",
    "action2bid = np.linspace(0, 1, num_actions)  # Mapping of action index to bid value\n",
    "\n",
    "# Training loop\n",
    "epsilon = initial_epsilon\n",
    "for episode in range(num_episodes):\n",
    "    \n",
    "    # Seller realizes value\n",
    "    value_seller = np.random.normal(avg_value_seller, std_value_seller, 1)[0]\n",
    "        \n",
    "    # Period 1\n",
    "    # Buyer action\n",
    "    if np.random.uniform(0, 1) < epsilon:\n",
    "        action1 = np.random.randint(0, num_actions)  # Exploration: Random action\n",
    "    else:\n",
    "        action1 = np.argmax(q_table_period1)  # Exploitation: Choose best action based on Q-values\n",
    "    bid1 = action2bid[action1]  # Convert action index to bid value\n",
    "    \n",
    "    # Seller action\n",
    "    if bid1 >= value_seller:\n",
    "        reward1 = value_buyer - bid1  # Calculate reward based on bid and buyer's value\n",
    "        state = 1 # Offer accepted\n",
    "    else:\n",
    "        reward1 = 0 # No reward if bid is below seller's value\n",
    "        state = 0 # Offer rejected\n",
    "    \n",
    "    # Period 2\n",
    "    if np.random.uniform(0, 1) < epsilon:\n",
    "        action2 = np.random.randint(0, num_actions)  # Exploration: Random action\n",
    "    else:\n",
    "        action2 = np.argmax(q_table_period2[state])  # Exploitation: Choose best action based on Q-values\n",
    "    bid2 = action2bid[action2]  # Convert action index to bid value\n",
    "    \n",
    "    if state == 0:\n",
    "        if bid2 >= value_seller:\n",
    "            reward2 = value_buyer - bid2  # Calculate reward based on bid and buyer's value\n",
    "        else:\n",
    "            reward2 = 0 # No reward if bid is below seller's value\n",
    "    else:\n",
    "        reward2 = 0\n",
    "    \n",
    "    # Q-value update using Q-learning equation\n",
    "    q_table_period2[state][action2] = q_table_period2[state][action2] + alpha * (reward2 - q_table_period2[state][action2])\n",
    "    q_table_period1[action1] = q_table_period1[action1] + alpha * (reward1 + gamma * np.max(q_table_period2[state]) - q_table_period1[action1])\n",
    "\n",
    "    # Decay epsilon to reduce exploration over time\n",
    "    epsilon = max(min_epsilon, epsilon * epsilon_decay)\n",
    "\n",
    "    # Print relevant information for each episode\n",
    "    if episode % (num_episodes / 10) == 0:\n",
    "        print(\"Seller value:\", round(value_seller, 2), \"Buyer value:\", round(value_buyer, 2), \"Bid1:\", round(bid1, 2), \"Reward1:\", round(reward1, 2),\"State:\",state,\"Bid2:\", round(bid2, 2), \"Reward2:\", round(reward2, 2), \"Epsilon:\", round(epsilon, 2))\n",
    "        \n",
    "        \n",
    "        "
   ]
  },
  {
   "cell_type": "code",
   "execution_count": 65,
   "id": "a2c37ce2",
   "metadata": {
    "scrolled": true
   },
   "outputs": [
    {
     "name": "stdout",
     "output_type": "stream",
     "text": [
      "6 8\n"
     ]
    }
   ],
   "source": [
    "print(np.argmax(q_table_period1), np.argmax(q_table_period2[0]))"
   ]
  },
  {
   "cell_type": "code",
   "execution_count": 66,
   "id": "a853dc71",
   "metadata": {},
   "outputs": [
    {
     "name": "stdout",
     "output_type": "stream",
     "text": [
      "0.29235624680617367 0.18568354481950503\n"
     ]
    }
   ],
   "source": [
    "print(np.max(q_table_period1), np.max(q_table_period2[0]))"
   ]
  },
  {
   "cell_type": "markdown",
   "id": "dfe1cc98",
   "metadata": {},
   "source": [
    "### 3 Period Bilateral Bargain"
   ]
  },
  {
   "cell_type": "code",
   "execution_count": 70,
   "id": "aa5d53ed",
   "metadata": {},
   "outputs": [
    {
     "name": "stdout",
     "output_type": "stream",
     "text": [
      "SelVal: 0.04 BuyVal: 1 B1: 0.5 R1: 0.5 S1: 1 B2: 0.4 R2: 0 S2: 1 B3: 0.8 R3: 0 Eps: 0.99\n",
      "SelVal: 0.92 BuyVal: 1 B1: 1.0 R1: 0.0 S1: 1 B2: 0.5 R2: 0 S2: 1 B3: 0.7 R3: 0 Eps: 0.87\n",
      "SelVal: 0.74 BuyVal: 1 B1: 0.6 R1: 0 S1: 0 B2: 0.4 R2: 0 S2: 0 B3: 0.0 R3: 0 Eps: 0.77\n",
      "SelVal: 0.17 BuyVal: 1 B1: 0.6 R1: 0.4 S1: 1 B2: 0.0 R2: 0 S2: 1 B3: 1.0 R3: 0 Eps: 0.68\n",
      "SelVal: 0.46 BuyVal: 1 B1: 0.9 R1: 0.1 S1: 1 B2: 0.0 R2: 0 S2: 1 B3: 0.4 R3: 0 Eps: 0.6\n",
      "SelVal: 0.47 BuyVal: 1 B1: 0.9 R1: 0.1 S1: 1 B2: 0.0 R2: 0 S2: 1 B3: 0.0 R3: 0 Eps: 0.53\n",
      "SelVal: 0.59 BuyVal: 1 B1: 0.5 R1: 0 S1: 0 B2: 1.0 R2: 0.0 S2: 0 B3: 0.0 R3: 0 Eps: 0.47\n",
      "SelVal: 0.34 BuyVal: 1 B1: 0.3 R1: 0 S1: 0 B2: 0.6 R2: 0.4 S2: 0 B3: 0.0 R3: 0 Eps: 0.41\n",
      "SelVal: 0.35 BuyVal: 1 B1: 0.5 R1: 0.5 S1: 1 B2: 1.0 R2: 0 S2: 1 B3: 0.0 R3: 0 Eps: 0.36\n",
      "SelVal: 0.68 BuyVal: 1 B1: 0.5 R1: 0 S1: 0 B2: 0.0 R2: 0 S2: 0 B3: 0.8 R3: 0.2 Eps: 0.32\n",
      "SelVal: 0.31 BuyVal: 1 B1: 0.8 R1: 0.2 S1: 1 B2: 0.0 R2: 0 S2: 1 B3: 0.0 R3: 0 Eps: 0.28\n",
      "SelVal: 0.24 BuyVal: 1 B1: 0.5 R1: 0.5 S1: 1 B2: 0.0 R2: 0 S2: 1 B3: 0.0 R3: 0 Eps: 0.25\n",
      "SelVal: 0.5 BuyVal: 1 B1: 0.6 R1: 0.4 S1: 1 B2: 0.9 R2: 0 S2: 1 B3: 0.4 R3: 0 Eps: 0.22\n",
      "SelVal: 0.04 BuyVal: 1 B1: 0.5 R1: 0.5 S1: 1 B2: 0.9 R2: 0 S2: 1 B3: 0.0 R3: 0 Eps: 0.19\n",
      "SelVal: 0.59 BuyVal: 1 B1: 0.8 R1: 0.2 S1: 1 B2: 0.0 R2: 0 S2: 1 B3: 0.0 R3: 0 Eps: 0.17\n",
      "SelVal: 0.35 BuyVal: 1 B1: 0.6 R1: 0.4 S1: 1 B2: 0.0 R2: 0 S2: 1 B3: 0.0 R3: 0 Eps: 0.15\n",
      "SelVal: 0.82 BuyVal: 1 B1: 0.6 R1: 0 S1: 0 B2: 1.0 R2: 0.0 S2: 0 B3: 0.0 R3: 0 Eps: 0.13\n",
      "SelVal: 0.38 BuyVal: 1 B1: 0.5 R1: 0.5 S1: 1 B2: 0.6 R2: 0 S2: 1 B3: 0.0 R3: 0 Eps: 0.12\n",
      "SelVal: 0.64 BuyVal: 1 B1: 0.6 R1: 0 S1: 0 B2: 0.7 R2: 0.3 S2: 0 B3: 0.0 R3: 0 Eps: 0.1\n",
      "SelVal: 0.36 BuyVal: 1 B1: 0.6 R1: 0.4 S1: 1 B2: 0.0 R2: 0 S2: 1 B3: 0.0 R3: 0 Eps: 0.09\n"
     ]
    }
   ],
   "source": [
    "import numpy as np\n",
    "\n",
    "# Buyer realizes value \n",
    "value_buyer = 1\n",
    "    \n",
    "# Parameters\n",
    "avg_value_seller = 0.5\n",
    "std_value_seller = 0.2\n",
    "\n",
    "# Hyperparameters\n",
    "num_actions = 11\n",
    "num_episodes = 50000\n",
    "alpha = 0.1  # Learning rate\n",
    "gamma = 1  # No discount for immediate rewards\n",
    "initial_epsilon = 0.99\n",
    "epsilon_decay = 0.99995  # Decay factor for epsilon\n",
    "min_epsilon = 0.01\n",
    "\n",
    "# Divide the buyer value range into 11 divisions\n",
    "buyer_value_divisions = np.linspace(0.5, 1.0, num_actions)\n",
    "\n",
    "# Q-table initialization\n",
    "num_states = 2\n",
    "q_table_period1 = np.zeros((num_actions))\n",
    "q_table_period2 = np.zeros((num_states, num_actions))\n",
    "q_table_period3 = np.zeros((num_states, num_actions))\n",
    "action2bid = np.linspace(0, 1, num_actions)  # Mapping of action index to bid value\n",
    "\n",
    "# Training loop\n",
    "epsilon = initial_epsilon\n",
    "for episode in range(num_episodes):\n",
    "    \n",
    "    # Seller realizes value\n",
    "    value_seller = np.random.normal(avg_value_seller, std_value_seller, 1)[0]\n",
    "        \n",
    "    # Period 1\n",
    "    # Buyer action\n",
    "    if np.random.uniform(0, 1) < epsilon:\n",
    "        action1 = np.random.randint(0, num_actions)  # Exploration: Random action\n",
    "    else:\n",
    "        action1 = np.argmax(q_table_period1)  # Exploitation: Choose best action based on Q-values\n",
    "    bid1 = action2bid[action1]  # Convert action index to bid value\n",
    "    \n",
    "    # Seller action\n",
    "    if bid1 >= value_seller:\n",
    "        reward1 = value_buyer - bid1  # Calculate reward based on bid and buyer's value\n",
    "        state1 = 1 # Offer accepted in period 1\n",
    "    else:\n",
    "        reward1 = 0 # No reward if bid is below seller's value\n",
    "        state1 = 0 # Offer rejected in period 1\n",
    "    \n",
    "    # Period 2\n",
    "    if np.random.uniform(0, 1) < epsilon:\n",
    "        action2 = np.random.randint(0, num_actions)  # Exploration: Random action\n",
    "    else:\n",
    "        action2 = np.argmax(q_table_period2[state1])  # Exploitation: Choose best action based on Q-values\n",
    "    bid2 = action2bid[action2]  # Convert action index to bid value\n",
    "    \n",
    "    if state1 == 0:\n",
    "        if bid2 >= value_seller:\n",
    "            reward2 = value_buyer - bid2  # Calculate reward based on bid and buyer's value\n",
    "            state2 = 1 # Offer accepted in second period\n",
    "        else:\n",
    "            reward2 = 0 # No reward if bid is below seller's value\n",
    "            state2 = 0 # Offer rejected in second period\n",
    "    else:\n",
    "        reward2 = 0\n",
    "        state2 = 1 # Offer already accepted\n",
    "\n",
    "    # Period 3\n",
    "    if np.random.uniform(0, 1) < epsilon:\n",
    "        action3 = np.random.randint(0, num_actions)  # Exploration: Random action\n",
    "    else:\n",
    "        action3 = np.argmax(q_table_period3[state2])  # Exploitation: Choose best action based on Q-values\n",
    "    bid3 = action2bid[action3]  # Convert action index to bid value\n",
    "    \n",
    "    if state2 == 0:\n",
    "        if bid3 >= value_seller:\n",
    "            reward3 = value_buyer - bid3  # Calculate reward based on bid and buyer's value\n",
    "        else:\n",
    "            reward3 = 0 # No reward if bid is below seller's value\n",
    "    else:\n",
    "        reward3 = 0\n",
    "    \n",
    "    # Q-value update using Q-learning equation\n",
    "    q_table_period3[state2][action3] += alpha * (reward3                                           - q_table_period3[state2][action3])\n",
    "    q_table_period2[state1][action2] += alpha * (reward2 + gamma * np.max(q_table_period3[state2]) - q_table_period2[state1][action2])\n",
    "    q_table_period1[action1]         += alpha * (reward1 + gamma * np.max(q_table_period2[state1]) - q_table_period1[action1])\n",
    "\n",
    "    # Decay epsilon to reduce exploration over time\n",
    "    epsilon = max(min_epsilon, epsilon * epsilon_decay)\n",
    "\n",
    "    # Print relevant information for each episode\n",
    "    if episode % (num_episodes / 20) == 0:\n",
    "        print(\"SelVal:\", round(value_seller, 2), \"BuyVal:\", round(value_buyer, 2), \"B1:\", round(bid1, 2), \"R1:\", round(reward1, 2),\"S1:\",state1,\"B2:\", round(bid2, 2), \"R2:\", round(reward2, 2), \"S2:\",state1,\"B3:\", round(bid3, 2), \"R3:\", round(reward3, 2),\"Eps:\", round(epsilon, 2))"
   ]
  },
  {
   "cell_type": "code",
   "execution_count": 71,
   "id": "b1cbf8e2",
   "metadata": {},
   "outputs": [
    {
     "name": "stdout",
     "output_type": "stream",
     "text": [
      "6 8 9\n"
     ]
    }
   ],
   "source": [
    "print(np.argmax(q_table_period1), np.argmax(q_table_period2[0]), np.argmax(q_table_period3[0]))"
   ]
  },
  {
   "cell_type": "code",
   "execution_count": 72,
   "id": "e7638c5e",
   "metadata": {},
   "outputs": [
    {
     "name": "stdout",
     "output_type": "stream",
     "text": [
      "0.34198938985227545 0.1630077112533948 0.08266643865148145\n"
     ]
    }
   ],
   "source": [
    "print(np.max(q_table_period1), np.max(q_table_period2[0]), np.max(q_table_period3[0]))"
   ]
  },
  {
   "cell_type": "markdown",
   "id": "d5c6ec45",
   "metadata": {},
   "source": [
    "### K-Period Bilateral Bargain"
   ]
  },
  {
   "cell_type": "code",
   "execution_count": 100,
   "id": "3b97b6d8",
   "metadata": {},
   "outputs": [
    {
     "name": "stdout",
     "output_type": "stream",
     "text": [
      "SelVal: 1.1 BuyVal: 1 Actions: [4] States: [0, 0] Eps: 0.99\n",
      "SelVal: 1.12 BuyVal: 1 Actions: [0] States: [0, 0] Eps: 0.77\n",
      "SelVal: 0.94 BuyVal: 1 Actions: [5] States: [0, 1] Eps: 0.6\n",
      "SelVal: 0.55 BuyVal: 1 Actions: [1] States: [0, 0] Eps: 0.47\n",
      "SelVal: 0.68 BuyVal: 1 Actions: [0] States: [0, 0] Eps: 0.36\n",
      "SelVal: 1.0 BuyVal: 1 Actions: [0] States: [0, 0] Eps: 0.28\n",
      "SelVal: 0.84 BuyVal: 1 Actions: [3] States: [0, 0] Eps: 0.22\n",
      "SelVal: 0.69 BuyVal: 1 Actions: [0] States: [0, 0] Eps: 0.17\n",
      "SelVal: 1.16 BuyVal: 1 Actions: [0] States: [0, 0] Eps: 0.13\n",
      "SelVal: 0.59 BuyVal: 1 Actions: [4] States: [0, 1] Eps: 0.1\n",
      "SelVal: 0.77 BuyVal: 1 Actions: [0] States: [0, 0] Eps: 0.08\n",
      "SelVal: 0.68 BuyVal: 1 Actions: [0] States: [0, 0] Eps: 0.06\n",
      "SelVal: 0.71 BuyVal: 1 Actions: [0] States: [0, 0] Eps: 0.05\n",
      "SelVal: 1.2 BuyVal: 1 Actions: [0] States: [0, 0] Eps: 0.04\n",
      "SelVal: 0.67 BuyVal: 1 Actions: [0] States: [0, 0] Eps: 0.03\n",
      "SelVal: 0.69 BuyVal: 1 Actions: [0] States: [0, 0] Eps: 0.02\n",
      "SelVal: 1.14 BuyVal: 1 Actions: [0] States: [0, 0] Eps: 0.02\n",
      "SelVal: 0.76 BuyVal: 1 Actions: [0] States: [0, 0] Eps: 0.01\n",
      "SelVal: 0.82 BuyVal: 1 Actions: [0] States: [0, 0] Eps: 0.01\n",
      "SelVal: 0.55 BuyVal: 1 Actions: [0] States: [0, 0] Eps: 0.01\n"
     ]
    }
   ],
   "source": [
    "import numpy as np\n",
    "\n",
    "# Buyer realizes value \n",
    "value_buyer = 1\n",
    "    \n",
    "# Parameters\n",
    "avg_value_seller = 0.8\n",
    "std_value_seller = 0.2\n",
    "\n",
    "# Hyperparameters\n",
    "num_periods = 1\n",
    "num_actions = 6\n",
    "num_episodes = 100000\n",
    "alpha = 0.1  # Learning rate\n",
    "gamma = 1  # No discount for immediate rewards\n",
    "initial_epsilon = 0.99\n",
    "epsilon_decay = 0.99995  # Decay factor for epsilon\n",
    "min_epsilon = 0.01\n",
    "\n",
    "# Divide the buyer value range into 11 divisions\n",
    "buyer_value_divisions = np.linspace(0.5, 1.0, num_actions)\n",
    "\n",
    "# Q-table initialization\n",
    "num_states = 2\n",
    "q_table = np.zeros((num_periods, num_states, num_actions))\n",
    "action2bid = np.linspace(0, 1, num_actions)  # Mapping of action index to bid value\n",
    "\n",
    "# Training loop\n",
    "epsilon = initial_epsilon\n",
    "period0 = 1\n",
    "state0 = 0\n",
    "for episode in range(num_episodes):\n",
    "    \n",
    "    # Seller realizes value\n",
    "    value_seller = np.random.normal(avg_value_seller, std_value_seller, 1)[0]\n",
    "        \n",
    "    # History in one full game\n",
    "    actions = []\n",
    "    states = [0]\n",
    "    rewards = []\n",
    "    \n",
    "    for period in range(num_periods):\n",
    "            \n",
    "        if np.random.uniform(0, 1) < epsilon:\n",
    "            action = np.random.randint(0, num_actions)  # Exploration: Random action\n",
    "        else:\n",
    "            action = np.argmax(q_table[period,states[period]])  # Exploitation: Choose best action based on Q-values\n",
    "        bid = action2bid[action]  # Convert action index to bid value\n",
    "\n",
    "        # Seller action\n",
    "        if states[period] == 0:\n",
    "            if bid >= value_seller:\n",
    "                reward = value_buyer - bid  # Calculate reward based on bid and buyer's value\n",
    "                next_state = 1 # Offer accepted in period 1\n",
    "            else:\n",
    "                reward = 0 # No reward if bid is below seller's value\n",
    "                next_state = 0 # Offer rejected in period 1\n",
    "        else:\n",
    "            reward = 0\n",
    "            next_state = 1\n",
    "\n",
    "        actions.append(action)\n",
    "        states.append(next_state)\n",
    "        rewards.append(reward)\n",
    "\n",
    "    for period in range(num_periods-1,-1,-1):\n",
    "        if period == num_periods-1:\n",
    "            q_table[period][states[period-1]] += alpha * (rewards[period] - q_table[period][states[period-1]])\n",
    "        else:\n",
    "            q_table[period][states[period-1]] += alpha * (rewards[period] + gamma * q_table[period+1][states[period]] - q_table[period][states[period-1]])\n",
    "\n",
    "    # Decay epsilon to reduce exploration over time\n",
    "    epsilon = max(min_epsilon, epsilon * epsilon_decay)\n",
    "\n",
    "    # Print relevant information for each episode\n",
    "    if episode % (num_episodes / 20) == 0:\n",
    "        print(\"SelVal:\", round(value_seller, 2), \"BuyVal:\", round(value_buyer, 2), \"Actions:\", actions ,\"States:\",states,\"Eps:\", round(epsilon, 2))"
   ]
  },
  {
   "cell_type": "code",
   "execution_count": 101,
   "id": "bbc8a141",
   "metadata": {},
   "outputs": [
    {
     "name": "stdout",
     "output_type": "stream",
     "text": [
      "0\n"
     ]
    }
   ],
   "source": [
    "for period in range(num_periods):\n",
    "    print(np.argmax(q_table[period,0]))"
   ]
  },
  {
   "cell_type": "code",
   "execution_count": 5,
   "id": "ee110ccd",
   "metadata": {},
   "outputs": [
    {
     "name": "stdout",
     "output_type": "stream",
     "text": [
      "Random Input: tensor([ 0.,  1.,  2.,  3.,  4.,  5.,  6.,  7.,  8.,  9., 10.])\n",
      "Optimal Actions: [2, 2, 2, 4, 4, 4, 5, 5, 5, 5, 5]\n"
     ]
    }
   ],
   "source": [
    "random_input = torch.arange(0, 11, 1, dtype=torch.float32)\n",
    "\n",
    "with torch.no_grad():\n",
    "    optimal_actions = []\n",
    "    for value in random_input:\n",
    "        q_values = q_network(value.unsqueeze(0))  # Reshape value to match input_size\n",
    "        optimal_action = torch.argmax(q_values).item()\n",
    "        optimal_actions.append(optimal_action)\n",
    "\n",
    "print(\"Random Input:\", random_input)\n",
    "print(\"Optimal Actions:\", optimal_actions)"
   ]
  },
  {
   "cell_type": "code",
   "execution_count": 4,
   "id": "daf92282",
   "metadata": {},
   "outputs": [
    {
     "data": {
      "text/plain": [
       "torch.Size([11])"
      ]
     },
     "execution_count": 4,
     "metadata": {},
     "output_type": "execute_result"
    }
   ],
   "source": [
    "random_input.shape"
   ]
  },
  {
   "cell_type": "code",
   "execution_count": null,
   "id": "6091e4a6",
   "metadata": {},
   "outputs": [],
   "source": []
  }
 ],
 "metadata": {
  "kernelspec": {
   "display_name": "Python 3 (ipykernel)",
   "language": "python",
   "name": "python3"
  },
  "language_info": {
   "codemirror_mode": {
    "name": "ipython",
    "version": 3
   },
   "file_extension": ".py",
   "mimetype": "text/x-python",
   "name": "python",
   "nbconvert_exporter": "python",
   "pygments_lexer": "ipython3",
   "version": "3.10.9"
  }
 },
 "nbformat": 4,
 "nbformat_minor": 5
}
