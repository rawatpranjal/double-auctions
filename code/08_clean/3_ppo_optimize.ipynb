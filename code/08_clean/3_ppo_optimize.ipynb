{
 "cells": [
  {
   "cell_type": "markdown",
   "id": "2d0b8868-6af5-4728-9551-81b8a2acdd8a",
   "metadata": {},
   "source": [
    "### Test"
   ]
  },
  {
   "cell_type": "code",
   "execution_count": 1,
   "id": "69e99d41-c627-4069-93d5-750243c35d80",
   "metadata": {},
   "outputs": [],
   "source": [
    "from utils import * \n",
    "from algorithms import *\n",
    "from agents import *\n",
    "from env import *"
   ]
  },
  {
   "cell_type": "code",
   "execution_count": 2,
   "id": "7d12b44f-a5f2-4272-91f1-cc8b5e339e01",
   "metadata": {},
   "outputs": [],
   "source": [
    "# HYPERPARAMS\n",
    "learning_rate  = 0.0003\n",
    "gamma           = 0.9\n",
    "lmbda           = 0.9\n",
    "eps_clip        = 0.2\n",
    "K_epoch         = 10\n",
    "rollout_len    = 3\n",
    "buffer_size    = 10\n",
    "minibatch_size = 32\n",
    "verbose = 0\n",
    "num_states = 2"
   ]
  },
  {
   "cell_type": "code",
   "execution_count": 3,
   "id": "4372fe22-8641-40c5-b53c-5d7a7def92f0",
   "metadata": {},
   "outputs": [
    {
     "name": "stdout",
     "output_type": "stream",
     "text": [
      "[[ 99.25003886  82.45671643  77.66026229  65.21989865]\n",
      " [100.          84.05672672  63.22103594  62.96150214]\n",
      " [ 78.67729377  60.07550004  59.31575489  58.17739974]]\n",
      "[[11.47061757 16.75562681 39.29472894 54.31626246]\n",
      " [22.83601084 29.76199996 33.6351073  56.56277446]\n",
      " [22.02002285 45.1952035  52.5790546  78.76449945]\n",
      " [27.9216024  38.27685302 51.64216474 57.74193037]\n",
      " [36.9662783  38.72188629 43.40438254 87.08807828]\n",
      " [24.4482233  26.90662066 47.53168931 66.02949848]]\n",
      "[0, 0]\n"
     ]
    }
   ],
   "source": [
    "# ENVIRONMENT PARAMS\n",
    "numRounds, numPeriods, numSteps = 1, 10000, 9\n",
    "numBuyers, numSellers, numTokens = 3, 6, 4\n",
    "gameTypes, seed = '1111', 42\n",
    "disclosure = []\n",
    "depth = 0\n",
    "gameData = [gameTypes, numBuyers, numSellers, numTokens, numRounds, numPeriods, numSteps, seed]\n",
    "numStates = num_states\n",
    "log = Log(gameData, disclosure)\n",
    "\n",
    "# ALGORITHM\n",
    "algoArgs = [num_states, learning_rate, gamma, lmbda, eps_clip, K_epoch, rollout_len, buffer_size, minibatch_size, verbose]\n",
    "model = PPO1(*algoArgs)\n",
    "score = 0.0\n",
    "print_interval = 100\n",
    "rollout = []\n",
    "\n",
    "# OTHER AGENTS\n",
    "buyers = [Reinforcer(gameData, disclosure, index=0, buyer=1, reinforcer=0, depth = depth, verbose=verbose, numStates = num_states, algo = 'BASE', algoArgs=[numStates]),\n",
    "          ZeroIntelligence(gameData, disclosure, index=0, buyer=1, reinforcer=0),\n",
    "          ZeroIntelligence(gameData, disclosure, index=0, buyer=1, reinforcer=0)]\n",
    "sellers = [ZeroIntelligence(gameData, disclosure, index=0, buyer=0, reinforcer=0),\n",
    "           ZeroIntelligence(gameData, disclosure, index=0, buyer=0, reinforcer=0),\n",
    "           ZeroIntelligence(gameData, disclosure, index=0, buyer=0, reinforcer=0),\n",
    "           ZeroIntelligence(gameData, disclosure, index=0, buyer=0, reinforcer=0),\n",
    "           ZeroIntelligence(gameData, disclosure, index=0, buyer=0, reinforcer=0),\n",
    "           ZeroIntelligence(gameData, disclosure, index=0, buyer=0, reinforcer=0)]\n",
    "\n",
    "# INITIALIZE\n",
    "metaData = [gameTypes, numBuyers, numSellers, numTokens, numRounds, numPeriods, numSteps, seed, disclosure, buyers, sellers]\n",
    "env = GymEnv(metaData, buyers, sellers, log)\n",
    "print(log.roundData.iloc[0].buyerValues)\n",
    "print(log.roundData.iloc[0].sellerCosts)\n",
    "print(buyers[0].state)"
   ]
  },
  {
   "cell_type": "code",
   "execution_count": null,
   "id": "2cee50b3-8024-4b4c-8988-fa06121f4ffc",
   "metadata": {},
   "outputs": [
    {
     "name": "stdout",
     "output_type": "stream",
     "text": [
      "# of episode :100, avg score : 93.4, optmization step: 0, 0.027, 0.593, 0.114, 0.588\n",
      "# of episode :200, avg score : 100.1, optmization step: 100, 0.126, 0.528, 0.041, 0.517\n",
      "# of episode :300, avg score : 104.6, optmization step: 200, 0.168, 0.446, 0.159, 0.324\n",
      "# of episode :400, avg score : 109.6, optmization step: 300, 0.097, 0.425, -0.065, 0.211\n",
      "# of episode :500, avg score : 116.3, optmization step: 400, 0.036, 0.371, 0.193, 0.362\n",
      "# of episode :600, avg score : 117.7, optmization step: 500, 0.039, 0.383, 0.086, 0.426\n",
      "# of episode :700, avg score : 114.9, optmization step: 600, 0.099, 0.341, 0.128, 0.306\n"
     ]
    }
   ],
   "source": [
    "# TRAINING LOOP\n",
    "for n_epi in range(10000):\n",
    "    s, _ = env.reset()\n",
    "    done = False\n",
    "    count = 0\n",
    "    a_list = []\n",
    "    while count < 200 and not done:\n",
    "        for t in range(rollout_len):\n",
    "            mu, std = model.pi(torch.from_numpy(np.array(s)).float())\n",
    "            dist = Normal(mu, std)\n",
    "            a = dist.sample()\n",
    "            a_list.append(a.item())\n",
    "            log_prob = dist.log_prob(a)\n",
    "            s_prime, r, done, truncated, info = env.step(a.item())\n",
    "            rollout.append((s, a, r, s_prime, log_prob.item(), done))\n",
    "            if len(rollout) == rollout_len:\n",
    "                model.put_data(rollout)\n",
    "                rollout = []\n",
    "            s = s_prime\n",
    "            score += r\n",
    "            count += 1\n",
    "        model.train_net()\n",
    "\n",
    "    if n_epi%print_interval==0 and n_epi!=0:\n",
    "        print(\"# of episode :{}, avg score : {:.1f}, optmization step: {}, mu:{:.3f}, std:{:.3f}, mean a:{:.3f}, std a:{:.3f}\".format(n_epi,\n",
    "                                                                                          score/print_interval,\n",
    "                                                                                          model.optimization_step,\n",
    "                                                                                          mu.item(), std.item(), \n",
    "                                                                                          np.mean(a_list), np.std(a_list)\n",
    "                                                                                         ))\n",
    "        score = 0.0"
   ]
  },
  {
   "cell_type": "code",
   "execution_count": null,
   "id": "75b33aea-0b20-4cb2-b126-31ce41aa9a7a",
   "metadata": {},
   "outputs": [],
   "source": [
    "env.log.graphTraining(maxNumPeriods=3000, skip = 20, trackBuyersIdx = [0])"
   ]
  },
  {
   "cell_type": "code",
   "execution_count": null,
   "id": "d52fa52c-c7c9-4427-b5b8-46be5edf8e70",
   "metadata": {},
   "outputs": [],
   "source": [
    "env.log.graphLearning(trackBuyersIdx = [0], trackSellersIdx = [], rolling_window=100, type = 'period')"
   ]
  },
  {
   "cell_type": "code",
   "execution_count": null,
   "id": "2e916179-c394-40b2-9387-734d933c2c1e",
   "metadata": {},
   "outputs": [],
   "source": [
    "env.log.stepData.tail(10)"
   ]
  },
  {
   "cell_type": "code",
   "execution_count": null,
   "id": "d8f68fd3-b3c7-49f3-94cb-659e3705eda0",
   "metadata": {},
   "outputs": [],
   "source": [
    "env.log.graphSales(0, 4887, trackBuyersIdx=[0], trackSellersIdx=[])"
   ]
  },
  {
   "cell_type": "code",
   "execution_count": null,
   "id": "f27009c0-9601-4eb0-969e-920984cc6925",
   "metadata": {},
   "outputs": [],
   "source": [
    "env.log.graphOffers(0, 4888, trackBuyersIdx=[0], trackSellersIdx=[])"
   ]
  },
  {
   "cell_type": "code",
   "execution_count": null,
   "id": "13327266-0fed-4915-8869-0bc151f85d87",
   "metadata": {},
   "outputs": [],
   "source": []
  },
  {
   "cell_type": "code",
   "execution_count": null,
   "id": "1990f283-89b5-4a3f-981b-dd98c4324ae7",
   "metadata": {},
   "outputs": [],
   "source": []
  },
  {
   "cell_type": "code",
   "execution_count": null,
   "id": "24f970e5-fcb2-4d77-a630-bb006f01a6d7",
   "metadata": {},
   "outputs": [],
   "source": []
  },
  {
   "cell_type": "code",
   "execution_count": null,
   "id": "a4d4170f-5f45-49c6-b78c-57e5b323bede",
   "metadata": {},
   "outputs": [],
   "source": []
  },
  {
   "cell_type": "code",
   "execution_count": null,
   "id": "c66debf5-d912-4b85-9ac5-a672e2e39f38",
   "metadata": {},
   "outputs": [],
   "source": []
  },
  {
   "cell_type": "code",
   "execution_count": null,
   "id": "dc309510-54be-4ce2-9124-4d5424a7da64",
   "metadata": {},
   "outputs": [],
   "source": []
  },
  {
   "cell_type": "code",
   "execution_count": null,
   "id": "d8d3a9d9-409f-451a-938c-4f85c6b3b7b2",
   "metadata": {},
   "outputs": [],
   "source": []
  },
  {
   "cell_type": "code",
   "execution_count": null,
   "id": "cb02c1ca-9b89-44ba-b00f-908f684ad89c",
   "metadata": {},
   "outputs": [],
   "source": []
  },
  {
   "cell_type": "code",
   "execution_count": null,
   "id": "c9493af2-e13b-4ea2-83f4-78c1e34389c5",
   "metadata": {},
   "outputs": [],
   "source": []
  },
  {
   "cell_type": "code",
   "execution_count": null,
   "id": "deb2e40f-a26d-4538-9fa3-1546e076f7d4",
   "metadata": {},
   "outputs": [],
   "source": []
  },
  {
   "cell_type": "code",
   "execution_count": null,
   "id": "6495d279-5d4c-4cd4-8356-21c984a6df95",
   "metadata": {},
   "outputs": [],
   "source": []
  },
  {
   "cell_type": "code",
   "execution_count": null,
   "id": "d377e915-293b-4f74-9738-df85744d8956",
   "metadata": {},
   "outputs": [],
   "source": []
  },
  {
   "cell_type": "code",
   "execution_count": null,
   "id": "abd02572-23bb-4c98-92a9-44e83eb0edc7",
   "metadata": {},
   "outputs": [],
   "source": []
  }
 ],
 "metadata": {
  "kernelspec": {
   "display_name": "Python 3 (ipykernel)",
   "language": "python",
   "name": "python3"
  },
  "language_info": {
   "codemirror_mode": {
    "name": "ipython",
    "version": 3
   },
   "file_extension": ".py",
   "mimetype": "text/x-python",
   "name": "python",
   "nbconvert_exporter": "python",
   "pygments_lexer": "ipython3",
   "version": "3.11.5"
  }
 },
 "nbformat": 4,
 "nbformat_minor": 5
}
