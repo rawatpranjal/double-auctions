{
 "cells": [
  {
   "cell_type": "code",
   "execution_count": 4,
   "id": "bf854222",
   "metadata": {},
   "outputs": [
    {
     "name": "stderr",
     "output_type": "stream",
     "text": [
      "2023-09-20 06:44:26.770965: I tensorflow/core/platform/cpu_feature_guard.cc:182] This TensorFlow binary is optimized to use available CPU instructions in performance-critical operations.\n",
      "To enable the following instructions: AVX2 FMA, in other operations, rebuild TensorFlow with the appropriate compiler flags.\n"
     ]
    },
    {
     "ename": "ImportError",
     "evalue": "cannot import name 'specs' from 'acme' (/usr/local/lib/python3.10/site-packages/acme/__init__.py)",
     "output_type": "error",
     "traceback": [
      "\u001b[0;31m---------------------------------------------------------------------------\u001b[0m",
      "\u001b[0;31mImportError\u001b[0m                               Traceback (most recent call last)",
      "Cell \u001b[0;32mIn [4], line 10\u001b[0m\n\u001b[1;32m      7\u001b[0m \u001b[38;5;28;01mimport\u001b[39;00m \u001b[38;5;21;01mmatplotlib\u001b[39;00m\u001b[38;5;21;01m.\u001b[39;00m\u001b[38;5;21;01mpyplot\u001b[39;00m \u001b[38;5;28;01mas\u001b[39;00m \u001b[38;5;21;01mplt\u001b[39;00m\n\u001b[1;32m      8\u001b[0m \u001b[38;5;28;01mimport\u001b[39;00m \u001b[38;5;21;01mtensorflow\u001b[39;00m \u001b[38;5;28;01mas\u001b[39;00m \u001b[38;5;21;01mtf\u001b[39;00m\n\u001b[0;32m---> 10\u001b[0m \u001b[38;5;28;01mfrom\u001b[39;00m \u001b[38;5;21;01macme\u001b[39;00m \u001b[38;5;28;01mimport\u001b[39;00m specs\n\u001b[1;32m     11\u001b[0m \u001b[38;5;28;01mfrom\u001b[39;00m \u001b[38;5;21;01macme\u001b[39;00m \u001b[38;5;28;01mimport\u001b[39;00m wrappers\n\u001b[1;32m     12\u001b[0m \u001b[38;5;28;01mfrom\u001b[39;00m \u001b[38;5;21;01macme\u001b[39;00m\u001b[38;5;21;01m.\u001b[39;00m\u001b[38;5;21;01magents\u001b[39;00m\u001b[38;5;21;01m.\u001b[39;00m\u001b[38;5;21;01mjax\u001b[39;00m \u001b[38;5;28;01mimport\u001b[39;00m d4pg\n",
      "\u001b[0;31mImportError\u001b[0m: cannot import name 'specs' from 'acme' (/usr/local/lib/python3.10/site-packages/acme/__init__.py)"
     ]
    }
   ],
   "source": [
    "from typing import Optional\n",
    "\n",
    "import collections\n",
    "from dm_control import suite as dm_suite\n",
    "import dm_env\n",
    "import pandas as pd\n",
    "import matplotlib.pyplot as plt\n",
    "import tensorflow as tf\n",
    "\n",
    "from acme import specs\n",
    "from acme import wrappers\n",
    "from acme.agents.jax import d4pg\n",
    "from acme.jax import experiments\n",
    "from acme.utils import loggers"
   ]
  },
  {
   "cell_type": "code",
   "execution_count": null,
   "id": "a0b8eb76",
   "metadata": {},
   "outputs": [],
   "source": [
    "def make_environment(seed: int) -> dm_env.Environment:\n",
    "  environment = dm_suite.load('cartpole', 'balance')\n",
    "\n",
    "  # Make the observations be a flat vector of all concatenated features.\n",
    "  environment = wrappers.ConcatObservationWrapper(environment)\n",
    "\n",
    "  # Wrap the environment so the expected continuous action spec is [-1, 1].\n",
    "  # Note: this is a no-op on 'control' tasks.\n",
    "  environment = wrappers.CanonicalSpecWrapper(environment, clip=True)\n",
    "\n",
    "  # Make sure the environment outputs single-precision floats.\n",
    "  environment = wrappers.SinglePrecisionWrapper(environment)\n",
    "\n",
    "  return environment"
   ]
  },
  {
   "cell_type": "code",
   "execution_count": null,
   "id": "802fe6bc",
   "metadata": {},
   "outputs": [],
   "source": [
    "def network_factory(spec: specs.EnvironmentSpec) -> d4pg.D4PGNetworks:\n",
    "  return d4pg.make_networks(\n",
    "      spec,\n",
    "      # These correspond to sizes of the hidden layers of an MLP.\n",
    "      policy_layer_sizes=(256, 256),\n",
    "      critic_layer_sizes=(256, 256),\n",
    "  )"
   ]
  },
  {
   "cell_type": "code",
   "execution_count": null,
   "id": "b87caf5c",
   "metadata": {},
   "outputs": [],
   "source": [
    "d4pg_config = d4pg.D4PGConfig(learning_rate=3e-4, sigma=0.2)\n",
    "d4pg_builder = d4pg.D4PGBuilder(d4pg_config)"
   ]
  },
  {
   "cell_type": "code",
   "execution_count": null,
   "id": "a5212f69",
   "metadata": {},
   "outputs": [],
   "source": []
  }
 ],
 "metadata": {
  "kernelspec": {
   "display_name": "Python 3 (ipykernel)",
   "language": "python",
   "name": "python3"
  },
  "language_info": {
   "codemirror_mode": {
    "name": "ipython",
    "version": 3
   },
   "file_extension": ".py",
   "mimetype": "text/x-python",
   "name": "python",
   "nbconvert_exporter": "python",
   "pygments_lexer": "ipython3",
   "version": "3.10.13"
  }
 },
 "nbformat": 4,
 "nbformat_minor": 5
}
