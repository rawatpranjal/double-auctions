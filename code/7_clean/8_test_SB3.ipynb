{
 "cells": [
  {
   "cell_type": "markdown",
   "id": "774443c3-efe4-40a9-aa37-7a6bbba0125a",
   "metadata": {},
   "source": [
    "### Discrete"
   ]
  },
  {
   "cell_type": "code",
   "execution_count": null,
   "id": "f506621f-2210-496a-acb5-d4a351717831",
   "metadata": {},
   "outputs": [],
   "source": [
    "from stable_baselines3 import A2C, PPO\n",
    "from stable_baselines3.common.logger import configure\n",
    "tmp_path = \"/tmp/sb3_log/\"\n",
    "# set up logger\n",
    "new_logger = configure(tmp_path, [\"stdout\", \"csv\", \"tensorboard\"])\n",
    "model = A2C(\"MlpPolicy\", \"CartPole-v1\", verbose=1)\n",
    "# Set new logger\n",
    "model.set_logger(new_logger)\n",
    "model.learn(50000)"
   ]
  },
  {
   "cell_type": "code",
   "execution_count": null,
   "id": "30af6cf9-78b8-4150-b23d-0f7dbb343ad4",
   "metadata": {},
   "outputs": [],
   "source": [
    "from stable_baselines3 import PPO\n",
    "from stable_baselines3.common.logger import configure\n",
    "tmp_path = \"/tmp/sb3_log/\"\n",
    "# set up logger\n",
    "new_logger = configure(tmp_path, [\"stdout\", \"csv\", \"tensorboard\"])\n",
    "model = PPO(\"MlpPolicy\", \"CartPole-v1\", verbose=1)\n",
    "# Set new logger\n",
    "model.set_logger(new_logger)\n",
    "model.learn(50000)"
   ]
  },
  {
   "cell_type": "code",
   "execution_count": null,
   "id": "f003eecd-f008-491e-8042-adae059e6eaa",
   "metadata": {},
   "outputs": [],
   "source": [
    "import gymnasium as gym\n",
    "from stable_baselines3 import DQN\n",
    "env = gym.make(\"CartPole-v1\", render_mode=None)\n",
    "model = DQN(\"MlpPolicy\", env, verbose=1)\n",
    "model.learn(total_timesteps=50000, log_interval=4)"
   ]
  },
  {
   "cell_type": "code",
   "execution_count": null,
   "id": "73f83cf2-90c6-48fc-8934-950e4eb9a0b5",
   "metadata": {},
   "outputs": [],
   "source": [
    "from sb3_contrib import TRPO\n",
    "model = TRPO(\"MlpPolicy\", \"CartPole-v1\", gamma=0.9, verbose=1)\n",
    "model.learn(total_timesteps=50000, log_interval=4)\n",
    "model.save(\"trpo_pendulum\")"
   ]
  },
  {
   "cell_type": "code",
   "execution_count": null,
   "id": "4bacca04-af80-414a-afc7-878416fb5603",
   "metadata": {},
   "outputs": [],
   "source": [
    "import numpy as np\n",
    "from sb3_contrib import RecurrentPPO\n",
    "model = RecurrentPPO(\"MlpLstmPolicy\", \"CartPole-v1\", verbose=1)\n",
    "model.learn(50000)"
   ]
  },
  {
   "cell_type": "code",
   "execution_count": null,
   "id": "c8c6ec19-94d2-4746-9e35-ad7c3c0ac114",
   "metadata": {},
   "outputs": [],
   "source": [
    "from sb3_contrib import QRDQN\n",
    "policy_kwargs = dict(n_quantiles=50)\n",
    "model = QRDQN(\"MlpPolicy\", \"CartPole-v1\", policy_kwargs=policy_kwargs, verbose=1)\n",
    "model.learn(total_timesteps=50000, log_interval=4)"
   ]
  },
  {
   "cell_type": "code",
   "execution_count": null,
   "id": "c5106efc-6ab5-4af9-b3f7-90225d6a0e4c",
   "metadata": {},
   "outputs": [],
   "source": [
    "from sb3_contrib import ARS\n",
    "model = ARS(\"LinearPolicy\", \"CartPole-v1\", verbose=1)\n",
    "model.learn(total_timesteps=50000, log_interval=4)"
   ]
  },
  {
   "cell_type": "markdown",
   "id": "d68d95e1-ca1a-4f96-8183-a97c2024f22f",
   "metadata": {},
   "source": [
    "### Continuous"
   ]
  },
  {
   "cell_type": "code",
   "execution_count": null,
   "id": "f63b81d3-552c-4ac2-8602-93e5553991bc",
   "metadata": {},
   "outputs": [],
   "source": [
    "import gymnasium as gym\n",
    "from stable_baselines3 import SAC\n",
    "env = gym.make(\"Pendulum-v1\", render_mode= None)\n",
    "model = SAC(\"MlpPolicy\", env, verbose=1)\n",
    "model.learn(total_timesteps=50000, log_interval=4)"
   ]
  },
  {
   "cell_type": "code",
   "execution_count": null,
   "id": "3af1710d-08a3-456c-bd31-ccc69a694210",
   "metadata": {},
   "outputs": [],
   "source": [
    "import gymnasium as gym\n",
    "from stable_baselines3 import DDPG\n",
    "env = gym.make(\"Pendulum-v1\", render_mode= None)\n",
    "model = DDPG(\"MlpPolicy\", env, verbose=1)\n",
    "model.learn(total_timesteps=50000, log_interval=4)"
   ]
  },
  {
   "cell_type": "code",
   "execution_count": null,
   "id": "e4311bd3-f715-48b2-a7ac-b24aba1ac44c",
   "metadata": {},
   "outputs": [],
   "source": [
    "import gymnasium as gym\n",
    "from stable_baselines3 import PPO\n",
    "env = gym.make(\"Pendulum-v1\", render_mode=None)\n",
    "model = PPO(\"MlpPolicy\", env, verbose=1)\n",
    "model.learn(total_timesteps=50000, log_interval=4)"
   ]
  },
  {
   "cell_type": "markdown",
   "id": "90d9bc26-4dee-4c54-90bc-81da2c32fd13",
   "metadata": {},
   "source": [
    "### Minimal RL"
   ]
  },
  {
   "cell_type": "code",
   "execution_count": null,
   "id": "fa98c0ac-caf9-4f4c-bb9b-cae9cf1ee49c",
   "metadata": {},
   "outputs": [],
   "source": [
    "import gym\n",
    "import torch\n",
    "import torch.nn as nn\n",
    "import torch.nn.functional as F\n",
    "import torch.optim as optim\n",
    "from torch.distributions import Categorical\n",
    "\n",
    "#Hyperparameters\n",
    "learning_rate = 0.0005\n",
    "gamma         = 0.98\n",
    "lmbda         = 0.95\n",
    "eps_clip      = 0.1\n",
    "K_epoch       = 3\n",
    "T_horizon     = 20\n",
    "\n",
    "class PPO(nn.Module):\n",
    "    def __init__(self):\n",
    "        super(PPO, self).__init__()\n",
    "        self.data = []\n",
    "        \n",
    "        self.fc1   = nn.Linear(4,256)\n",
    "        self.fc_pi = nn.Linear(256,2)\n",
    "        self.fc_v  = nn.Linear(256,1)\n",
    "        self.optimizer = optim.Adam(self.parameters(), lr=learning_rate)\n",
    "\n",
    "    def pi(self, x, softmax_dim = 0):\n",
    "        x = F.relu(self.fc1(x))\n",
    "        x = self.fc_pi(x)\n",
    "        prob = F.softmax(x, dim=softmax_dim)\n",
    "        return prob\n",
    "    \n",
    "    def v(self, x):\n",
    "        x = F.relu(self.fc1(x))\n",
    "        v = self.fc_v(x)\n",
    "        return v\n",
    "      \n",
    "    def put_data(self, transition):\n",
    "        self.data.append(transition)\n",
    "        \n",
    "    def make_batch(self):\n",
    "        s_lst, a_lst, r_lst, s_prime_lst, prob_a_lst, done_lst = [], [], [], [], [], []\n",
    "        for transition in self.data:\n",
    "            s, a, r, s_prime, prob_a, done = transition\n",
    "            \n",
    "            s_lst.append(s)\n",
    "            a_lst.append([a])\n",
    "            r_lst.append([r])\n",
    "            s_prime_lst.append(s_prime)\n",
    "            prob_a_lst.append([prob_a])\n",
    "            done_mask = 0 if done else 1\n",
    "            done_lst.append([done_mask])\n",
    "            \n",
    "        s,a,r,s_prime,done_mask, prob_a = torch.tensor(s_lst, dtype=torch.float), torch.tensor(a_lst), \\\n",
    "                                          torch.tensor(r_lst), torch.tensor(s_prime_lst, dtype=torch.float), \\\n",
    "                                          torch.tensor(done_lst, dtype=torch.float), torch.tensor(prob_a_lst)\n",
    "        self.data = []\n",
    "        return s, a, r, s_prime, done_mask, prob_a\n",
    "        \n",
    "    def train_net(self):\n",
    "        s, a, r, s_prime, done_mask, prob_a = self.make_batch()\n",
    "\n",
    "        for i in range(K_epoch):\n",
    "            td_target = r + gamma * self.v(s_prime) * done_mask\n",
    "            delta = td_target - self.v(s)\n",
    "            delta = delta.detach().numpy()\n",
    "\n",
    "            advantage_lst = []\n",
    "            advantage = 0.0\n",
    "            for delta_t in delta[::-1]:\n",
    "                advantage = gamma * lmbda * advantage + delta_t[0]\n",
    "                advantage_lst.append([advantage])\n",
    "            advantage_lst.reverse()\n",
    "            advantage = torch.tensor(advantage_lst, dtype=torch.float)\n",
    "\n",
    "            pi = self.pi(s, softmax_dim=1)\n",
    "            pi_a = pi.gather(1,a)\n",
    "            ratio = torch.exp(torch.log(pi_a) - torch.log(prob_a))  # a/b == exp(log(a)-log(b))\n",
    "\n",
    "            surr1 = ratio * advantage\n",
    "            surr2 = torch.clamp(ratio, 1-eps_clip, 1+eps_clip) * advantage\n",
    "            loss = -torch.min(surr1, surr2) + F.smooth_l1_loss(self.v(s) , td_target.detach())\n",
    "\n",
    "            self.optimizer.zero_grad()\n",
    "            loss.mean().backward()\n",
    "            self.optimizer.step()\n",
    "        \n",
    "def main():\n",
    "    env = gym.make('CartPole-v1')\n",
    "    model = PPO()\n",
    "    score = 0.0\n",
    "    print_interval = 20\n",
    "\n",
    "    for n_epi in range(10000):\n",
    "        s, _ = env.reset()\n",
    "        done = False\n",
    "        while not done:\n",
    "            for t in range(T_horizon):\n",
    "                prob = model.pi(torch.from_numpy(s).float())\n",
    "                m = Categorical(prob)\n",
    "                a = m.sample().item()\n",
    "                s_prime, r, done, truncated, info = env.step(a)\n",
    "\n",
    "                model.put_data((s, a, r/100.0, s_prime, prob[a].item(), done))\n",
    "                s = s_prime\n",
    "\n",
    "                score += r\n",
    "                if done:\n",
    "                    break\n",
    "\n",
    "            model.train_net()\n",
    "\n",
    "        if n_epi%print_interval==0 and n_epi!=0:\n",
    "            print(\"# of episode :{}, avg score : {:.1f}\".format(n_epi, score/print_interval))\n",
    "            score = 0.0\n",
    "\n",
    "    env.close()\n",
    "\n",
    "if __name__ == '__main__':\n",
    "    main()"
   ]
  }
 ],
 "metadata": {
  "kernelspec": {
   "display_name": "Python 3 (ipykernel)",
   "language": "python",
   "name": "python3"
  },
  "language_info": {
   "codemirror_mode": {
    "name": "ipython",
    "version": 3
   },
   "file_extension": ".py",
   "mimetype": "text/x-python",
   "name": "python",
   "nbconvert_exporter": "python",
   "pygments_lexer": "ipython3",
   "version": "3.11.5"
  }
 },
 "nbformat": 4,
 "nbformat_minor": 5
}
