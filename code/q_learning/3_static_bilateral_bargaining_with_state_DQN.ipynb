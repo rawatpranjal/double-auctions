{
 "cells": [
  {
   "cell_type": "code",
   "execution_count": 5,
   "id": "6f61f4c7",
   "metadata": {},
   "outputs": [
    {
     "name": "stdout",
     "output_type": "stream",
     "text": [
      "Seller value: 0.74 Buyer value: 0.9 Bid: 0.6 Reward: 0 Epsilon: 0.99\n",
      "Seller value: 0.68 Buyer value: 0.9 Bid: 0.8 Reward: 0.1 Epsilon: 0.6\n",
      "Seller value: 0.69 Buyer value: 0.75 Bid: 0.7 Reward: 0.05 Epsilon: 0.36\n",
      "Seller value: 0.74 Buyer value: 0.9 Bid: 0.8 Reward: 0.1 Epsilon: 0.22\n",
      "Seller value: 0.65 Buyer value: 0.5 Bid: 0.0 Reward: 0 Epsilon: 0.13\n",
      "Seller value: 0.65 Buyer value: 0.75 Bid: 0.7 Reward: 0.05 Epsilon: 0.08\n",
      "Seller value: 0.75 Buyer value: 0.85 Bid: 0.7 Reward: 0 Epsilon: 0.05\n",
      "Seller value: 0.68 Buyer value: 0.95 Bid: 0.8 Reward: 0.15 Epsilon: 0.03\n",
      "Seller value: 0.65 Buyer value: 0.6 Bid: 0.0 Reward: 0 Epsilon: 0.02\n",
      "Seller value: 0.78 Buyer value: 0.95 Bid: 0.8 Reward: 0.15 Epsilon: 0.01\n"
     ]
    }
   ],
   "source": [
    "import numpy as np\n",
    "\n",
    "# Parameters\n",
    "avg_value_seller = 0.7\n",
    "std_value_seller = 0.05\n",
    "\n",
    "# Hyperparameters\n",
    "num_actions = 11\n",
    "num_episodes = 5000\n",
    "alpha = 0.1  # Learning rate\n",
    "gamma = 0  # No discount for immediate rewards\n",
    "initial_epsilon = 0.99\n",
    "epsilon_decay = 0.999  # Decay factor for epsilon\n",
    "min_epsilon = 0.01\n",
    "\n",
    "# Divide the buyer value range into 11 divisions\n",
    "buyer_value_divisions = np.linspace(0.5, 1.0, num_actions)\n",
    "\n",
    "# Q-table initialization\n",
    "num_states = num_actions\n",
    "q_table = np.zeros((num_states, num_actions))\n",
    "action2bid = np.linspace(0, 1, num_actions)  # Mapping of action index to bid value\n",
    "\n",
    "# Training loop\n",
    "epsilon = initial_epsilon\n",
    "for episode in range(num_episodes):\n",
    "    \n",
    "    # Seller realizes value\n",
    "    value_seller = np.random.normal(avg_value_seller, std_value_seller, 1)[0]\n",
    "    \n",
    "    # Buyer realizes value \n",
    "    value_buyer = np.random.choice(buyer_value_divisions)\n",
    "    \n",
    "    # Find the index of the buyer value division\n",
    "    state = np.argmin(np.abs(buyer_value_divisions - value_buyer))\n",
    "    \n",
    "    # Select action using epsilon-greedy strategy\n",
    "    if np.random.uniform(0, 1) < epsilon:\n",
    "        action = np.random.randint(0, num_actions)  # Exploration: Random action\n",
    "    else:\n",
    "        action = np.argmax(q_table[state])  # Exploitation: Choose best action based on Q-values\n",
    "\n",
    "    bid = action2bid[action]  # Convert action index to bid value\n",
    "    \n",
    "    if bid >= value_seller:\n",
    "        reward = value_buyer - bid  # Calculate reward based on bid and buyer's value\n",
    "    else:\n",
    "        reward = 0  # No reward if bid is below seller's value\n",
    "\n",
    "    # Q-value update using Q-learning equation\n",
    "    q_table[state][action] += alpha * (reward + gamma * np.max(q_table[state]) - q_table[state][action])\n",
    "\n",
    "    # Decay epsilon to reduce exploration over time\n",
    "    epsilon = max(min_epsilon, epsilon * epsilon_decay)\n",
    "\n",
    "    # Print relevant information for each episode\n",
    "    if episode % 500 == 0:\n",
    "        print(\"Seller value:\", round(value_seller, 2), \"Buyer value:\", round(value_buyer, 2), \"Bid:\", round(bid, 2), \"Reward:\", round(reward, 2), \"Epsilon:\", round(epsilon, 2))"
   ]
  },
  {
   "cell_type": "code",
   "execution_count": 86,
   "id": "3b97b6d8",
   "metadata": {},
   "outputs": [
    {
     "name": "stdout",
     "output_type": "stream",
     "text": [
      "Seller value: 0.19 Buyer value: 0.6 Bid: 0.9 Reward: -0.3 Epsilon: 0.99 Average Reward: -0.3\n",
      "Seller value: 0.2 Buyer value: 0.7 Bid: 0.3 Reward: 0.4 Epsilon: 0.6 Average Reward: 0.05\n",
      "Seller value: 0.22 Buyer value: 0.6 Bid: 0.3 Reward: 0.3 Epsilon: 0.36 Average Reward: 0.13\n",
      "Seller value: 0.26 Buyer value: 0.5 Bid: 0.3 Reward: 0.2 Epsilon: 0.22 Average Reward: 0.16\n",
      "Seller value: 0.14 Buyer value: 0.6 Bid: 0.0 Reward: 0 Epsilon: 0.13 Average Reward: 0.2\n",
      "Seller value: 0.23 Buyer value: 0.4 Bid: 0.2 Reward: 0 Epsilon: 0.08 Average Reward: 0.23\n",
      "Seller value: 0.31 Buyer value: 0.9 Bid: 0.3 Reward: 0 Epsilon: 0.05 Average Reward: 0.24\n",
      "Seller value: 0.22 Buyer value: 0.2 Bid: 0.1 Reward: 0 Epsilon: 0.03 Average Reward: 0.24\n",
      "Seller value: 0.26 Buyer value: 0.9 Bid: 0.3 Reward: 0.6 Epsilon: 0.02 Average Reward: 0.25\n",
      "Seller value: 0.21 Buyer value: 0.4 Bid: 0.3 Reward: 0.1 Epsilon: 0.01 Average Reward: 0.25\n"
     ]
    }
   ],
   "source": [
    "import numpy as np\n",
    "import torch\n",
    "import random\n",
    "import torch.nn as nn\n",
    "import torch.optim as optim\n",
    "\n",
    "# Parameters\n",
    "avg_value_seller = 0.2\n",
    "std_value_seller = 0.05\n",
    "\n",
    "# Hyperparameters\n",
    "num_actions = 11\n",
    "num_episodes = 50000\n",
    "num_states = 1\n",
    "hidden_units = 100\n",
    "batch_size = 512\n",
    "alpha = 0.1  # Learning rate\n",
    "gamma = 0  # No discount for immediate rewards\n",
    "initial_epsilon = 0.99\n",
    "epsilon_decay = 0.9999  # Decay factor for epsilon\n",
    "min_epsilon = 0.01\n",
    "memory_capacity = 1000\n",
    "\n",
    "# Divide the buyer value range into 11 divisions\n",
    "buyer_value_divisions = np.linspace(0.0, 1.0, num_actions)\n",
    "action2bid = np.linspace(0, 1, num_actions)  # Mapping of action index to bid value\n",
    "\n",
    "# Q-network definition\n",
    "class QNetwork(nn.Module):\n",
    "    def __init__(self, input_size, hidden_size, output_size):\n",
    "        super(QNetwork, self).__init__()\n",
    "        self.fc1 = nn.Linear(input_size, hidden_size)\n",
    "        self.fc2 = nn.Linear(hidden_size, output_size)\n",
    "        \n",
    "    def forward(self, x):\n",
    "        x = torch.relu(self.fc1(x))\n",
    "        return self.fc2(x)\n",
    "    \n",
    "q_network = QNetwork(num_states, num_actions*2, num_actions)\n",
    "optimizer = optim.Adam(q_network.parameters(), lr=alpha)\n",
    "\n",
    "# Experience replay buffer\n",
    "memory = []\n",
    "\n",
    "# Training loop\n",
    "epsilon = initial_epsilon\n",
    "for episode in range(num_episodes):\n",
    "    # Seller realizes value\n",
    "    value_seller = np.random.normal(avg_value_seller, std_value_seller, 1)[0]\n",
    "    \n",
    "    # Buyer realizes value \n",
    "    value_buyer = np.random.choice(buyer_value_divisions)\n",
    "    \n",
    "    # Find the index of the buyer value division\n",
    "    state = np.argmin(np.abs(buyer_value_divisions - value_buyer))\n",
    "        \n",
    "    # Select action using epsilon-greedy strategy\n",
    "    if random.random() < epsilon:\n",
    "        action = random.randint(0, num_actions-1)  # Exploration: Random action\n",
    "    else:\n",
    "        q_values = q_network(torch.tensor([state], dtype=torch.float32))\n",
    "        action = torch.argmax(q_values).item()  # Exploitation: Choose best action based on Q-values\n",
    "\n",
    "    bid = action2bid[action]  # Convert action index to bid value\n",
    "    \n",
    "    if bid >= value_seller:\n",
    "        reward = value_buyer - bid  # Calculate reward based on bid and buyer's value\n",
    "    else:\n",
    "        reward = 0  # No reward if bid is below seller's value\n",
    "    \n",
    "    # Store experience in memory\n",
    "    memory.append((state, action, reward))\n",
    "    \n",
    "    # Sample a batch from memory for training\n",
    "    if len(memory) >= batch_size:\n",
    "        batch = random.sample(memory, batch_size)\n",
    "        states, actions, rewards = zip(*batch)\n",
    "        states = torch.tensor(states, dtype=torch.float32)\n",
    "        actions = torch.tensor(actions, dtype=torch.int64)\n",
    "        rewards = torch.tensor(rewards, dtype=torch.float32)\n",
    "        q_values = q_network(states.unsqueeze(1))\n",
    "        target_q_values = rewards + gamma * torch.max(q_values, dim=1).values\n",
    "        predicted_q_values = q_values.gather(1, actions.unsqueeze(1)).squeeze(1)\n",
    "        loss = nn.MSELoss()(predicted_q_values, target_q_values)\n",
    "        optimizer.zero_grad()\n",
    "        loss.backward()\n",
    "        optimizer.step()\n",
    "    \n",
    "    epsilon = max(min_epsilon, epsilon * epsilon_decay)\n",
    "    \n",
    "    if episode % 5000 == 0:\n",
    "        average_rewards = np.mean([m[2] for m in memory[-1000:]])\n",
    "        print(\"Seller value:\", round(value_seller, 2), \"Buyer value:\", round(value_buyer, 2),\n",
    "              \"Bid:\", round(bid, 2), \"Reward:\", round(reward, 2), \"Epsilon:\", round(epsilon, 2),\n",
    "             \"Average Reward:\", round(average_rewards, 2))\n"
   ]
  },
  {
   "cell_type": "code",
   "execution_count": 87,
   "id": "ee110ccd",
   "metadata": {},
   "outputs": [
    {
     "name": "stdout",
     "output_type": "stream",
     "text": [
      "Random Input: tensor([ 0.,  1.,  2.,  3.,  4.,  5.,  6.,  7.,  8.,  9., 10.])\n",
      "Optimal Actions: [0, 1, 1, 2, 3, 3, 3, 3, 3, 3, 3]\n"
     ]
    }
   ],
   "source": [
    "random_input = torch.arange(0, 11, 1, dtype=torch.float32)\n",
    "\n",
    "with torch.no_grad():\n",
    "    optimal_actions = []\n",
    "    for value in random_input:\n",
    "        q_values = q_network(value.unsqueeze(0))  # Reshape value to match input_size\n",
    "        optimal_action = torch.argmax(q_values).item()\n",
    "        optimal_actions.append(optimal_action)\n",
    "\n",
    "print(\"Random Input:\", random_input)\n",
    "print(\"Optimal Actions:\", optimal_actions)"
   ]
  },
  {
   "cell_type": "code",
   "execution_count": 58,
   "id": "daf92282",
   "metadata": {},
   "outputs": [
    {
     "data": {
      "text/plain": [
       "torch.Size([11])"
      ]
     },
     "execution_count": 58,
     "metadata": {},
     "output_type": "execute_result"
    }
   ],
   "source": [
    "random_input.shape"
   ]
  },
  {
   "cell_type": "code",
   "execution_count": null,
   "id": "6091e4a6",
   "metadata": {},
   "outputs": [],
   "source": []
  }
 ],
 "metadata": {
  "kernelspec": {
   "display_name": "Python 3 (ipykernel)",
   "language": "python",
   "name": "python3"
  },
  "language_info": {
   "codemirror_mode": {
    "name": "ipython",
    "version": 3
   },
   "file_extension": ".py",
   "mimetype": "text/x-python",
   "name": "python",
   "nbconvert_exporter": "python",
   "pygments_lexer": "ipython3",
   "version": "3.10.9"
  }
 },
 "nbformat": 4,
 "nbformat_minor": 5
}
